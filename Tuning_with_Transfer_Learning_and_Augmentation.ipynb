{
  "nbformat": 4,
  "nbformat_minor": 0,
  "metadata": {
    "colab": {
      "provenance": [],
      "authorship_tag": "ABX9TyMuaxjlW21aVTVIzE8aF68z",
      "include_colab_link": true
    },
    "kernelspec": {
      "name": "python3",
      "display_name": "Python 3"
    },
    "language_info": {
      "name": "python"
    },
    "accelerator": "GPU",
    "gpuClass": "standard"
  },
  "cells": [
    {
      "cell_type": "markdown",
      "metadata": {
        "id": "view-in-github",
        "colab_type": "text"
      },
      "source": [
        "<a href=\"https://colab.research.google.com/github/SondipPoulSingh/Deep-Learning/blob/main/Tuning_with_Transfer_Learning_and_Augmentation.ipynb\" target=\"_parent\"><img src=\"https://colab.research.google.com/assets/colab-badge.svg\" alt=\"Open In Colab\"/></a>"
      ]
    },
    {
      "cell_type": "markdown",
      "source": [
        "### Importing Sample Data"
      ],
      "metadata": {
        "id": "ttzz_gTF-6qB"
      }
    },
    {
      "cell_type": "code",
      "execution_count": 1,
      "metadata": {
        "colab": {
          "base_uri": "https://localhost:8080/"
        },
        "id": "YwllnoUryV5I",
        "outputId": "3bbbfcec-19d5-4bb7-e53e-2895949d48ff"
      },
      "outputs": [
        {
          "output_type": "stream",
          "name": "stdout",
          "text": [
            "Warning: Your Kaggle API key is readable by other users on this system! To fix this, you can run 'chmod 600 /root/.kaggle/kaggle.json'\n",
            "Downloading dogs-vs-cats.zip to /content\n",
            " 99% 1.06G/1.06G [00:04<00:00, 248MB/s]\n",
            "100% 1.06G/1.06G [00:04<00:00, 267MB/s]\n"
          ]
        }
      ],
      "source": [
        "!mkdir -p ~/.kaggle\n",
        "!cp kaggle.json ~/.kaggle/\n",
        "\n",
        "! kaggle datasets download -d salader/dogs-vs-cats\n",
        "# command from the dataset API https://www.kaggle.com/datasets/salader/dogs-vs-cats"
      ]
    },
    {
      "cell_type": "code",
      "source": [
        "from zipfile import ZipFile\n",
        "\n",
        "with ZipFile('/content/dogs-vs-cats.zip','r') as zip:\n",
        "  zip.extractall('/content')"
      ],
      "metadata": {
        "id": "PEQH7xbKzK-w"
      },
      "execution_count": 2,
      "outputs": []
    },
    {
      "cell_type": "markdown",
      "source": [
        "### Importing libraries, Applying Augmentation"
      ],
      "metadata": {
        "id": "HYma5yhI_EQE"
      }
    },
    {
      "cell_type": "code",
      "source": [
        "import tensorflow as tf\n",
        "from tensorflow import keras\n",
        "from tensorflow.keras.applications.vgg16 import VGG16 \n",
        "from tensorflow.keras.applications.vgg16 import preprocess_input, decode_predictions\n",
        "from tensorflow.keras.preprocessing import image\n",
        "from tensorflow.keras.preprocessing.image import ImageDataGenerator"
      ],
      "metadata": {
        "id": "tonLjsOOzLWk"
      },
      "execution_count": 3,
      "outputs": []
    },
    {
      "cell_type": "code",
      "source": [
        "# this is the augmentation configuration we will use for training\n",
        "train_data = ImageDataGenerator(rotation_range=30,\n",
        "                                   rescale=1./255,\n",
        "                                   shear_range=0.2,\n",
        "                                   zoom_range=0.2,\n",
        "                                   horizontal_flip=True\n",
        "                                   )\n",
        "test_data = ImageDataGenerator(rescale=1./255)"
      ],
      "metadata": {
        "id": "BTokDFkD08_y"
      },
      "execution_count": 4,
      "outputs": []
    },
    {
      "cell_type": "code",
      "source": [
        "# this is a generator that will read pictures found in\n",
        "# subfolers of 'content/train', and indefinitely generate\n",
        "# batches of augmented image data\n",
        "\n",
        "train_datagen = train_data.flow_from_directory(\n",
        "    '/content/train',\n",
        "    target_size=(224,224),\n",
        "    class_mode='binary',\n",
        "    batch_size=32\n",
        ")\n",
        "\n",
        "test_datagen = test_data.flow_from_directory(\n",
        "    '/content/test',\n",
        "    target_size=(224,224),\n",
        "    class_mode='binary',\n",
        "    batch_size=32\n",
        ")"
      ],
      "metadata": {
        "colab": {
          "base_uri": "https://localhost:8080/"
        },
        "id": "11_bJeXH2i6D",
        "outputId": "9a69aa0b-c2c2-49e2-8730-55b361841f9f"
      },
      "execution_count": 14,
      "outputs": [
        {
          "output_type": "stream",
          "name": "stdout",
          "text": [
            "Found 20000 images belonging to 2 classes.\n",
            "Found 5000 images belonging to 2 classes.\n"
          ]
        }
      ]
    },
    {
      "cell_type": "markdown",
      "source": [
        "### Model_building"
      ],
      "metadata": {
        "id": "jTkL27nU_OJF"
      }
    },
    {
      "cell_type": "code",
      "source": [
        "conv_base = VGG16(weights='imagenet',\n",
        "                  include_top=False,\n",
        "                  input_shape=(224,224,3)\n",
        "                  )"
      ],
      "metadata": {
        "id": "C_a9dAgz0Nao"
      },
      "execution_count": 15,
      "outputs": []
    },
    {
      "cell_type": "code",
      "source": [
        "conv_base.summary()"
      ],
      "metadata": {
        "colab": {
          "base_uri": "https://localhost:8080/"
        },
        "id": "jba3J2cg0bs3",
        "outputId": "d08290ac-32bb-40d1-faa2-eb642b42c5a3"
      },
      "execution_count": 16,
      "outputs": [
        {
          "output_type": "stream",
          "name": "stdout",
          "text": [
            "Model: \"vgg16\"\n",
            "_________________________________________________________________\n",
            " Layer (type)                Output Shape              Param #   \n",
            "=================================================================\n",
            " input_2 (InputLayer)        [(None, 224, 224, 3)]     0         \n",
            "                                                                 \n",
            " block1_conv1 (Conv2D)       (None, 224, 224, 64)      1792      \n",
            "                                                                 \n",
            " block1_conv2 (Conv2D)       (None, 224, 224, 64)      36928     \n",
            "                                                                 \n",
            " block1_pool (MaxPooling2D)  (None, 112, 112, 64)      0         \n",
            "                                                                 \n",
            " block2_conv1 (Conv2D)       (None, 112, 112, 128)     73856     \n",
            "                                                                 \n",
            " block2_conv2 (Conv2D)       (None, 112, 112, 128)     147584    \n",
            "                                                                 \n",
            " block2_pool (MaxPooling2D)  (None, 56, 56, 128)       0         \n",
            "                                                                 \n",
            " block3_conv1 (Conv2D)       (None, 56, 56, 256)       295168    \n",
            "                                                                 \n",
            " block3_conv2 (Conv2D)       (None, 56, 56, 256)       590080    \n",
            "                                                                 \n",
            " block3_conv3 (Conv2D)       (None, 56, 56, 256)       590080    \n",
            "                                                                 \n",
            " block3_pool (MaxPooling2D)  (None, 28, 28, 256)       0         \n",
            "                                                                 \n",
            " block4_conv1 (Conv2D)       (None, 28, 28, 512)       1180160   \n",
            "                                                                 \n",
            " block4_conv2 (Conv2D)       (None, 28, 28, 512)       2359808   \n",
            "                                                                 \n",
            " block4_conv3 (Conv2D)       (None, 28, 28, 512)       2359808   \n",
            "                                                                 \n",
            " block4_pool (MaxPooling2D)  (None, 14, 14, 512)       0         \n",
            "                                                                 \n",
            " block5_conv1 (Conv2D)       (None, 14, 14, 512)       2359808   \n",
            "                                                                 \n",
            " block5_conv2 (Conv2D)       (None, 14, 14, 512)       2359808   \n",
            "                                                                 \n",
            " block5_conv3 (Conv2D)       (None, 14, 14, 512)       2359808   \n",
            "                                                                 \n",
            " block5_pool (MaxPooling2D)  (None, 7, 7, 512)         0         \n",
            "                                                                 \n",
            "=================================================================\n",
            "Total params: 14,714,688\n",
            "Trainable params: 14,714,688\n",
            "Non-trainable params: 0\n",
            "_________________________________________________________________\n"
          ]
        }
      ]
    },
    {
      "cell_type": "code",
      "source": [
        "from tensorflow.keras.models import Sequential\n",
        "from tensorflow.keras.layers import Dense, Flatten"
      ],
      "metadata": {
        "id": "kq5EzRp_0eyS"
      },
      "execution_count": 17,
      "outputs": []
    },
    {
      "cell_type": "code",
      "source": [
        "model=Sequential()\n",
        "model.add(conv_base)\n",
        "model.add(Flatten())\n",
        "model.add(Dense(256,activation='relu'))\n",
        "model.add(Dense(1,activation='sigmoid'))"
      ],
      "metadata": {
        "id": "ZyWSkahZ0p5x"
      },
      "execution_count": 27,
      "outputs": []
    },
    {
      "cell_type": "code",
      "source": [
        "conv_base.trainable=False"
      ],
      "metadata": {
        "id": "L9nDV_Id1pja"
      },
      "execution_count": 28,
      "outputs": []
    },
    {
      "cell_type": "code",
      "source": [
        "model.summary()"
      ],
      "metadata": {
        "colab": {
          "base_uri": "https://localhost:8080/"
        },
        "id": "7UsesQJR073p",
        "outputId": "a1b49240-f7b7-4394-cbaa-2d7aa792cde6"
      },
      "execution_count": 29,
      "outputs": [
        {
          "output_type": "stream",
          "name": "stdout",
          "text": [
            "Model: \"sequential_4\"\n",
            "_________________________________________________________________\n",
            " Layer (type)                Output Shape              Param #   \n",
            "=================================================================\n",
            " vgg16 (Functional)          (None, 7, 7, 512)         14714688  \n",
            "                                                                 \n",
            " flatten_4 (Flatten)         (None, 25088)             0         \n",
            "                                                                 \n",
            " dense_8 (Dense)             (None, 256)               6422784   \n",
            "                                                                 \n",
            " dense_9 (Dense)             (None, 1)                 257       \n",
            "                                                                 \n",
            "=================================================================\n",
            "Total params: 21,137,729\n",
            "Trainable params: 6,423,041\n",
            "Non-trainable params: 14,714,688\n",
            "_________________________________________________________________\n"
          ]
        }
      ]
    },
    {
      "cell_type": "code",
      "source": [
        "model.compile(loss='binary_crossentropy',\n",
        "              optimizer='adam',\n",
        "              metrics=['accuracy']\n",
        "              )"
      ],
      "metadata": {
        "id": "1yblYsi62_Pp"
      },
      "execution_count": 21,
      "outputs": []
    },
    {
      "cell_type": "markdown",
      "source": [
        "### Testing"
      ],
      "metadata": {
        "id": "Bhx7DzKP_izV"
      }
    },
    {
      "cell_type": "code",
      "source": [
        "history = model.fit(train_datagen, epochs=5, validation_data=test_datagen)\n",
        "# validation accuray is better than training accuracy. So it works well."
      ],
      "metadata": {
        "colab": {
          "base_uri": "https://localhost:8080/"
        },
        "id": "0kx0R-Vx3o8s",
        "outputId": "9d7b6e42-862c-4307-a65a-074437823d05"
      },
      "execution_count": 22,
      "outputs": [
        {
          "output_type": "stream",
          "name": "stdout",
          "text": [
            "Epoch 1/5\n",
            "625/625 [==============================] - 292s 462ms/step - loss: 0.3497 - accuracy: 0.8700 - val_loss: 0.1723 - val_accuracy: 0.9316\n",
            "Epoch 2/5\n",
            "625/625 [==============================] - 290s 464ms/step - loss: 0.2286 - accuracy: 0.9028 - val_loss: 0.1804 - val_accuracy: 0.9204\n",
            "Epoch 3/5\n",
            "625/625 [==============================] - 301s 481ms/step - loss: 0.1985 - accuracy: 0.9160 - val_loss: 0.1645 - val_accuracy: 0.9302\n",
            "Epoch 4/5\n",
            "625/625 [==============================] - 295s 473ms/step - loss: 0.1914 - accuracy: 0.9183 - val_loss: 0.1806 - val_accuracy: 0.9244\n",
            "Epoch 5/5\n",
            "625/625 [==============================] - 296s 474ms/step - loss: 0.1880 - accuracy: 0.9214 - val_loss: 0.1508 - val_accuracy: 0.9360\n"
          ]
        }
      ]
    },
    {
      "cell_type": "code",
      "source": [
        "import matplotlib.pyplot as plt\n",
        "plt.plot(history.history['accuracy'],label='accuracy')\n",
        "plt.plot(history.history['val_accuracy'],label='validation_accuracy')\n",
        "plt.legend()\n",
        "plt.show()\n",
        "# # Without Augmentation we got overfitting(shown in the second image)"
      ],
      "metadata": {
        "colab": {
          "base_uri": "https://localhost:8080/",
          "height": 265
        },
        "id": "JGjoOYKp34N3",
        "outputId": "abc8150d-f8bb-4088-c3fa-dad60c64edd5"
      },
      "execution_count": 23,
      "outputs": [
        {
          "output_type": "display_data",
          "data": {
            "text/plain": [
              "<Figure size 432x288 with 1 Axes>"
            ],
            "image/png": "[encoded data removed]"
          },
          "metadata": {
            "needs_background": "light"
          }
        }
      ]
    },
    {
      "cell_type": "markdown",
      "source": [
        "![image.png](data:image/png;base64,iVBORw0KGgoAAAANSUhEUgAAAl8AAAFyCAYAAADLZb9oAAAgAElEQVR4nOzd2XMc53n4++90z3RPz74BGOwAN5EEN4ibtkjUrtiOtySu2FVxYlcqqfwuUpWLVCp1fOdU+S84N8lFcnQRx5VfyXIs2bEsmSKlUBRFkRRJkARJbMQ2BAazYNae3s7FYJoASUk0JZEU+X6qSACzodFY5pn3WV6P4zgOgiAIgiAIwh0h3e0DEARBEARBeJCI4EsQBEEQBOEOEsGXIAiCIAjCHSSCL0EQBEEQhDtIBF+CIAiCIAh3kAi+BEEQBEEQ7iARfAmCIAiCINxBIvgSBEEQBEG4g7x3+wDuFUtLS2SzWbxeLx6P524fjiAIgiAIn4HjOJimSTKZJJVK3e3DWUMEXyt+8Ytf8PLLL5NIJPB6xWkRBEEQhC8z0zTJ5/P8+Z//OT/84Q/v9uGsIaKMFaVSiXq9zp49e+65CFkQBEEQhN9PNpvll7/8JeVy+W4fyg1E8LXC7/fT19fHn/3Zn7Fu3bq7fTiCIAiCIHwG4+PjnDp1Cr/ff7cP5Qai4F4QBEEQBOEOEsGXIAiCIAjCHSSCL0EQBEEQhDtIBF+CIAiCIAh3kCi4v0W2bVOv19F1HcuycBznbh+SINwzPB4Psiyjqip+vx9JEq/rBEEQPs5nCr4ajQbVapVCoYBhGMiyTDAYJBwOEwgEbri9ZVnouk4+n0fXdRzHQZIkotEokUgEWZbxeDyYpkmxWKRaraLrOsCax5UkCcMwyOfzVKtVDMNw/9j7fD7i8Tiapn1u87ps23a/1kqlgmVZn8vjCsL9pPX7L0kSiqKIAEwQBOFjfKboJJPJcOLECV599VUWFhYIh8Ps37+fAwcO8PDDD99w+2q1ytjYGD/72c+Ympqi0WgQCAR44YUX+MM//EOi0Sher5dischrr73GiRMnmJqaAmDPnj0cOHCAXbt2EQqFyOfz/PSnP+XUqVNkMhn31XZ7ezvf/e532bp16+c2r8uyLAqFAo7jEAwGCQQCyLL8uTy2INwPLMtyXwgVCgWSyaQIvgRBED7GbQdfjuNw9uxZDh06RH9/P1u2bMGyLM6dO0dbWxuDg4OEw+E1q0+XLl3iyJEjAAwNDRGJRCgUCmSzWd59912eeuopLMtidHSU06dPEwgEePbZZ7Ftm3w+z+HDh+nr60PTNAzDYGFhAUmS2LRpE4ODg/j9fsLhMJ2dnZ/rXA/HcdB1HVVVCQaDqKoqnlgEYRXbtvF4PBSLRXdVWxAEQbi52wq+WvVPFy5c4Pz58/zoRz9iaGiIbDbLj3/8YyYnJ5menmbjxo1rgq/R0VGOHTvGk08+yWOPPcbg4CCXLl3ijTfe4M0332R4eJhKpcKFCxfIZrO8+OKLfOc738E0TV5++WUOHjzI/Pw88Xjcfcz169ezZ88eHnnkESKRyGc/IzfhOA6WZSHLMn6/X+z9KAjXkSQJv99PuVwWNZGCIAif4raWbxqNBleuXMEwDNLpNB0dHUQiEcLhMMPDw8iyzNmzZ6nVamvut7y8TKFQYGBggPb2dlRVZcOGDZimycjICPV63b1NX18f7e3tyLKMoigkk0kSiQTj4+NkMpnP5Yu/HSLwEoSbE78bgiAIt+a2Vr5M02RpaQnHcUgkEvj9fjdISqfTTE5OsrCwgGEYa+7n9/vRNI2FhQWKxSLhcJj5+Xnm5+fJ5XKUy2W8Xi+apnH58mWKxSKGYWBZFvl8nrm5Oebm5iiVSm5B/8TEBIuLi4yMjNDZ2UlPTw/bt28nHA5/bGqwVqsxMTHB+Pg4c3NzALz//vvU63Vs276dUyIIgiB8gWzHodawKNYMijWDasNCkSWCqpegKhNUvWg+GUnyIF4GCPe62047VioVAEKhkFt8LkkSoVAIj8dDpVK5IZBJp9P09fUxNjZGKBSiVqsxOjrK7Oys2wmZTCbp6uriyJEjTE1NcfHiRSzL4sqVKywuLlIoFNB1Ha/XSzKZZG5ujkuXLjE+Pk4sFmP9+vWEw2HWrVtHOBy+6fEbhsH09DQffvghIyMjAMzPzxMMBkW6RBAE4S6yHQfTcmhYNg3Txlh5WzMs8pUGc8U688UahaqB5pNJBBVSIZVESCGm+VC9Ej5Zwit78EoSXslz7X3Zgyx5kMQqrXCX3dE5Xzt27ECSJF5//XX+4z/+A0mS6OzspFKpuJ2O6XQan8/H5cuXOX/+PEeOHCEQCGAYBgMDA27NVTQa5Stf+QovvfQSXq8X27Z59913OXnyJG+++SZPPvkke/fuvelxBINBHn30UbZv3069XgfgZz/7GcePHxeF9IIgCHeJ7Tjohs1Cqc5svsZ0vsp0rsZMvsp8sU6+2qBm2BimjeU4eDy4AZZP9uD3ycQDPpIhlVRIJRlUSIXVlY+bQVo8oOD3SSIAE+6q2wq+JEkiGAwCuAW20FwRK5fL7kiG6wOZZDLJtm3baDQaZLNZTNMkFotRLpe5ePEifr+fQCCA1+vlwIEDDAwMsLS0hKqqbq1XIpEgEAigKAp9fX14vV58Ph+2bZPL5VhaWmJqaoqrV69+7PHLskwkEllToJ9IJNw5Y8Kd1eqUE+deEB4Mpu2gGxaFmkG+0iBfbZCvGuQqOvmK0fy40nDTi7bjIEseOiJ+opqPWMBHUPFiWDaVhkVZN6noJvWGRcN0mCvUmC80X1j7fRIB1Uto1b+gf/XH8spbHyF/M30ZUr2oXhlZEn+ThC/GbQVfrZQfQC6Xo16vY1kWjUaDTCaD4zi0t7fj8/luuF97eztf+cpX8Hg87riI0dFRrl696g5GlWWZXbt2MTw87N7uv/7rv5ibmyOdThONRvF4PKiq6j5py7LspiwvXrxItVr97GfnPlMsFikWi5im6Q64DYfD7viMer1OqVSiXC4DzSBbVVXa2trwer3uYNt6vY5pmgAEAgF3+G0ul2N5eZnu7m5UVcW2barVqltLF4/H3aaK1jBdy7Lw+XwEAgF8Pp87sNdxHDweD5FIxF0Vbd2nUChQrVZpNBp4PB43aPf5fNTrdQzDIJVKuUF5vV6nWq1imibJZPKGn0tBEL4Ylu1g2ddSiA2ruWpVaZgUqgazhRoz+Rqz+RqZ5RqLyzqFmoED+KTmSlYsoNAb1+iJB+hNaPTGA3RG/SRDCrWGTa7aYKmss1RukF31NltukFsJ7BqWjWk5mLaD4zj4fTJhv5dYwEdM85EIKiSCK6tjYZVEUCHq96H6pJV05XXpy5X3RQpTuF23FXwpikJvby+KopDJZFhYWKCtrY1SqcTJkyfZuHEjQ0NDaJq25n6NRsMdrCrLMsvLy7z11lvU63X27dvn1lyZpkmtVnOnZM/NzXHlyhVyuRzr1q2jo6MD27ZZXl5GVVUCgQCO4zA7O8uFCxeIxWJf2NiJL7MjR47wy1/+0t1hIBQKuWM/BgYGuHDhAr/73e84evQojuOgqirr16/nb//2b2lra2N+fp6f//znnDt3jsXFRQD27t3L008/zfbt23nllVd46623+MlPfsK6deuoVqucPn3a7Xz97ne/y5kzZzh48CBer5elpSXK5TIDAwNs376deDzOq6++SiaTwbZtfD4fzz77LC+99BLt7e14vV5yuRyvv/46J0+e5MqVK3g8HrZu3cquXbtIp9NcuHCBxcVFfvCDH9DZ2Um9XufixYscO3aMpaUlfvCDH5BOp+/yd0IQ7n+O41BrmCxVGszka0znqm4aMbNcZ6ms0zAdDMsGD8Q1H20RPzt6Y3THNHriGl0xjXjAh6Z4UbwSiiyhtGq6JA8BxSEW8NGXCGBaNqbtuEGWsRLoLdcN8hVjJSDTWao0V9XytQaFqsF0vkbDsLFx3MBK8Ur4vRLxlXqyVEi5MZUZVEgEFRSvSGEKv7/bTjtqmsZDDz3ElStXeOONN3j33XfdVYz+/n4SiQQnT55EURRSqRSdnZ3kcjkuX77M6OgotVoNwzDIZDIMDg4yPDxMOBzGtm2Wlpb41a9+xfLyMpIkuZOzn376adLpNKqqks/n+c1vfkM+n3ePK5PJuIHc+vXrP7eTdDOTSxXGFsos101M6852SHpliYjfy/r2EAPJ4C3fL51Os2fPHkzTxDAMyuUyJ0+eJBaLoaoqr732GrVajf3797sBciKRQNM0JicnOXHiBLOzs3R2djI8PAxAd3e3uzKVzWYZHx93t4RqpaGz2SyVSgXDMCiVSkxPT2OaJv39/Tz88MO0tbXR0dGB3+9n//79lEolDMMgm82yuLjIO++8wwsvvECtVuPs2bOcO3eOSCTCc8895+5q0NXVRTKZ5NixY4yMjJDP50mlUlSrVU6cOEE2myUej4udCQThc2Y7DhXdpFgz3XRhvrqy6lRpphPz1QbLKylEB5A80BXTiAUU4gEf8UAzkIkHFOJB38pbhajmQ/N9fPpPxoPvE36lWzVk1YZJWbco60YzRVm3KK28X66bzcsa1qr3TfSGRd2wmMlXmclXkSUPPlm+lqZcSV0Gr0tp3uxyxSuJFKawxm0X3EuSxLZt29B1nV/84hfu9kL79u1jaGiIYDDI5OQksixj2zZtbW3UajVmZ2c5fPgwS0tLaJrG+vXr2bRpE3v27HEL5yuVCh9++CHT09Pu8Mann36aF154gVgshsfjoVarMTIywtjYmDtPLJVKsWXLFh555BG6uro+t5N0M5PZCm9dWGAmV0U372zwpXolehIBZMnzewVf/f39hMNhN303MTHBb3/7W1KpFJFIhHfeeYenn36a73//+yQSCWzbxjAMNE3jvffe48iRI0SjUZ555hmeeuopAHRdxzAMFEX5vb+Ohx9+mG9/+9tIkkS9XncbL0zTpFKpcPHiRT744AMOHz7MY489xszMDMePH6dWq/HEE0/wta99DUmS1qyoRiIR6vU6CwsLtLe3uwFmd3c3u3fvvumeo4IgfDrbcTAsB2Mlfdgwm//qpsViSWe+WGc6X23WWxXrXC3WqTYsTNtB8UoEfDLRgI/umEZvoplG7IlrdMc02sN+1C+gCF7yeNAUGU2RSYZufhvHcagZFqW6SbbcTGFm3RSmTrbSIFvSKVQNFvUGpt1MYVq2g+04aMpKClO7FkgmV6+UhRRCqhe/T/7YDkyvJFKYD5rP1O3Y2dnJM888w/DwMKZprtlYW1EUXnrpJTweD4qioGkaPT09xONxHnnkEUzTdGuKIpGIW9MjSRI9PT384z/+I41GA8CtTYpEIu6TfHt7O3/7t3/rbmXiOI47Iywej39um2rfTy5dusTBgwcZGRmhXC67AU4sFiMQCNDR0cHAwACJRAKv1+ueU0mSuHr1KvPz8zz77LNs2LDBfUxFUfD5fL9Xl2ggEGBwcJDe3l73foZhMDMzwy9+8QvGxsbc1GipVCKdTmMYBlevXmVubo6HH36YDRs2IEkSHo8Hn8/nHufAwABbtmzhwoULaJqG3+9nYmKCgYEBNm/e/LluOyUIDwrbcag3bK4u15nJr6QP8zVmclVmCzVKdZOaYdGwHBTZQ1j10h3X6Iz66Yo1A63OqJ9USEX1Sm4K0bfy1ivfvcDD42nWlvlkiYi2ksK0mylMy3LcYKtmWlTqzTTqUiuFWW6QqzbTl8WawXS+Sq1h4fF41tSFhVUv0YCy0nGpkApeC8xSK0FaWGvOKRONRw+GzxShKIqCoijEYrGbXp9IJNZ8rKoqqqrecPlqrUL6vr6+T/zcPp+P7u7u3/+gPycDqSDPbm6/q2nHgdStrXq1GhvOnTvHxMQE27dvJxgMUigUKJfLhMNht3ZOVVW3IH31H4FGo4Gu64TD4TUBzCd1Kba2Zbp+3pssy8Tj8TWrUOPj4xw9epR6vc7GjRuJRqNUq1WOHz9OuVzGtu0bjqH1eVcHfgMDA2SzWY4ePUqj0aC3t5dUKkU6nSYUColRIoLwCSzbobpSDN/qQFybRjRWaqUa6KaNbTdXl7piGtGAj0TgxtRhazUoojU7FO/F2ELyeJDklRTmx/TjtBoHKnozNdlMX5qUVjotV6cw3ev1ZrqzYVrUGibTOZPpXBXZ40H1yQRVudllqV7rsgy5nZirLl+5LKDI+H2yWCG7D4jlods0kAz+Xim/u6nRaDAzM8PExAS1Wo1vfOMb9Pf3MzU1xenTp0kmk8TjcQzDcNOIrZWvVlekoiioqkqpVHJnowFrbiNJErIsYxiG28lYLBZv2GbK4/G4Xa0t4+PjnDhxgk2bNvHkk0+yfft2JicnyefznDhxAsdxbjiGVkekbdvuMXR1dbFx40ZeeeUVcrkcxWKRTZs20dfXJwIvQQAcmr+3huWs6UBsmBbVhsVSpbGqC7FKZrnOYkmnWDPxAIpXQvVKpEIqnQl/swsxrtGbCNAbDxAPKgSU+6+2UpY8aJKM5pNJhdSb3sZ2muc0X21c676srHRflq51YuarBtlKA2NVF6bH0zy3Ma3ZgRlbCWRbq2PJkEIioBDRvCheGd91acvVQ2S9khjdc68TwdcDwLZtarUaHo/HXd2q1WpMT08zNjaG3++nUqkwNjbGxo0byeVyN9R8dXR00NXVxfHjx4lGo+6qY6PRwDAMAoEAfr8fv99PNptleXmZarXKmTNnmJ2d/dRVSsMwMAyDcDiMpmlUKhU++OADJicn3dt0dHTQ3d3NyZMnSaVSbN68GUmS3PtqmoamaSQSCRKJBCMjI2SzWf7qr/6KgYGBL/QcC8KXhW03a5wyxbpbTD6TrzGdrzFfqLFcN6kbzVotDxAPKnTHAuzu99MT19w6rYjmQ1NktwOxlUb0PsCF5ZKn2SmZCqnEAgr9yaCbtmx2YtrujLPlukmuFZiVdXKV5upioWqQqxpMLlWpG2tTmIosoSkyicBKTVl4JW0ZXJ3CVIgGfCiyJAKwe5gIvh4AiqK49XYXLlzgP//zPwmFQiwtLbkDZ5PJJI8++iilUomXX37Z7XZMJpM899xzbNy4kVKpxPHjx/nd737HyMgIHo+Hnp4eNmzYwODgIBs2bGDbtm389re/5cSJE/h8PnK53C0dY+txRkZGmJ+fJ5lMksvl1qya9ff3s3v3bnK5HMeOHWN6ehpZlmlra3NrvYLBIKFQiK1bt7K4uEi9Xqevr8+dSycIDwrDsqkb9poOxNYg01zFoFBtXlasGeimjWM7eCUPPXGN6Mrsq5jWTCG6nYgrKcVYQEGRRQffzdxKCtO2HermtRTm6lTm9anLcv3a9ZWVDsxKw6KSqzCdqyJJ4PfJBJVmevKG7kvVS9Avr0lltroxxZiMu0cEXw8ARVHo7+9ncHCQM2fOcOzYMYLBIJFIhKGhITZv3szAwAA9PT289957vPfeeziOg6ZpbNiwgccff5yBgQEURWFubo5z587x0UcfIUkSe/fuJZVKYVkWW7ZsoVQq8dprr7nz1lpF9fF4HJ/PRzgcJp1Ou+MtWtatW0e5XOanP/0pk5OTRKNRtm7dSm9vL7quo6oqnZ2deL1eZmZmOHnyJGfPnkWSJHem3MaNG92vt7e3l8HBQSqVCu3t7aLLUbhvWXZzVaXVfdiwmvshlusmuWqD2XzNXd262koh1g1kjwffykpKMqjQldSaw0xX0ofdMY1USEHxyvdkndaXmSR5CCgyAUWmLfzxKcy6YVOorh4ee22lbKncYKnSXDFbLK2kMO1mgwAOBFUvEb+XaMBHTFNIhBRSwWtdmImgQkiVV1KYqzswPdeGykoeZEkS3/8vgAi+HgCtGqunnnqKnTt3YlmWW59l2zaBQMAdcLt+/Xq+9a1vATdOuO/s7OR73/ueO0Xe4/G43a3Xd7Pato0sy253qtfrJR6Ps2/fPrZu3eqmCFuSySSPPPIImzZtcjtnNU2j0WjgOA6dnZ1IkkQikeAb3/gGzz///JoJ96FQiFCo2Uuu6zoTExNEIhG2b9/uXi4I9xvHcSjrJoslnZnctS7E6XyVq8s6+VV1RZIEiaBKXyJAOtpKIQbojPmJagqaT0aRPW4Hos8r4ZM84on3LpE8Hvw+ibZwcz/KwZRzQwrTsBx006K4sk1Ta7L/0so2TYVas/ZsfLGCYTkAboClyM1tlxIBpZm+DK4aJrvycXOzcgWfLAKwz5sIvh4QHo+HWCz2sZ2pLZ8UqCiKQkdHx8defyvdrK3Vr5td7vP5PnVnAp/PRyqV+tjrP/zwQw4dOsTZs2fZuXMne/bsEatewpeaQzNNVdZXdSGu7kBc1ZXYHPnQ3PrLJ0n0JQMrHYi+lc7Da6nDREAhtjLIVBXpp3vSmhTmTbR+NpqpyObw2NYgWXeobL31/tquzErDpGHaK7c3mMxW8EoSqk+6lq78pOGxq/bHDKpefHdxXMiXkQi+hPvK+Pg477//vlvn9tBDD4mZb8KXQuuJ1LBWdSCurGzUGhYLJZ25Qo3pXI35Yo1MscbVZZ26YWEDiiwRVGXiAYWeeHMPxFYKsSvmJxVW8YkU0n3FQ7MLM7gSAHHj61qguUJaaTRXyLIl/dow2YpOttTqytRZrplcLZnu6pplOzg4BBWvu6F5LKCQCPhIhtTmKlmw2ZHZqiH7uCGyXllC9iCaAFaIZyXhvvLcc8+xe/dud6WvNbxXEO51tu1QaZhkinWmczV3mOnMShdiWTepr9R1aT6ZqOZjXVuQrliz+7AnodER9hMPKKg+CcW7No3oFYHXA8vj8RDwySheiURAYV3bqvTlqlRmtWFSqpvulP9WXVm+2mzQWCjpjC2WqRs2smdtgBX2e0kE19aVrd4TMxVSCKk+VJ/4IQQRfAn3mXg8Tjwev9uHIQg35Thg2TZl3VrpNrwujVhdGWRabVCsGhiWjQMoPom+UGBlCxuFRHBtGjGxMtQ05Pei+e7NQabC3SVJHhQ8IMPKfzcwLRvdtK/rwLQo129MZVYappvSrOgmhmWzXDNYrhmMZyvIkoeAz9scJOv3rQyUva7jciV12RHx0x5WH6juSxF8CYIgfM4cp7UX4uoUor2yybPFQqnObKHOTK7KXKFOZrlGtqxT1i2klWGbfq9Me0RdWdVqDjJtFclHNR/+T9pRWhBug1eW8MpSM4X5MayVGrNc9do+mEulRjOFuaobs1A1WCjpaxoEZKm512ZM8xHVFGKB5hiTfYMJwmoCryzxoEwvEcGXIAjC58xyHKq6yWyhtjLqobaSQqySKeqUdAPdsLFsB5/sIRFUWN8WWtuFGPUT9vvQfLKbOlS8zfEQYr6WcLdIKwFUh+wnGVTXpjBb4y5WZsy1ui2zFZ2lUmtltzlINrNc49JCyU2j7+yJEnK8NCvZ7n8i+BIEQbhNDbO5knXjINO1Hy/XDQyzmUL0+ySSoaD7qj++Msj0+m7EqObDJz84aRjhy8FDs4ZM8XpoDhK6cQW2tfJba1iUGyspzPraPS9Lq4bH7uyNEVC8D9TPugi+BEEQPkXr1XxriGnDbA4yXV4pTp7Jt/ZCbA4yXarolOomXqlZ8B5QZNrD/mYKcSV92JsI0BXTSASbc5QE4X7h8YDs8TTHUfg/OYVZa1h4ZQ+q98HaDkkEX4IgCJ/AdhyWawZXl+vNAaa5qjvQdLHc3J7HMJspRFny0BZW2dAeojN6LdBKRzXCfi9+b7PjzLeyH2Jrc2RBeBC1UpieB3AEhQi+BEF44DkOmLZNqX5tkKk7wLSyqiux2qC8svE0gOaTSAaDzX0QA76VzsPrBpkGFCKaD0X2PHBPMILwSVpzyh5EIvgSbpmu68zOzrobcVuWRalUQtd1kskkPt/Nd5EtFAqUy2Wi0Siapt3S0NPWYyuKgqZp7pOWYRhks1n8fj/RaBRJrBoIvweHZqrDWJU6bJjN9vqKbrKwXGdmzSDT5l6IDcsGml2IYX+zVqvXHWTafNsZbaYQZbEljyAIn0IEX8Itm52d5Z/+6Z949tln+eEPf8jy8jJvv/02ly5d4i/+4i9Ip9M3vd/bb7/Nu+++yx/90R+xZcsW2tvbP/VzlUolDh8+THd3N9u2bUNRFDweD9lsln/9139l27ZtvPjii2iaJgIw4ZZZdjOFOF+srRlkOluokSnqVHQTfSUoCyoy8aDCls4IXXE/PfHmtPi2kEI04FsZYiq5aUSf7BGBlyAIt0QEX8It03Wd8fFxdu7c6W66PTAwQCAQ+MT9EwuFAjMzM5RKJUzTvKXPVS6XOXz4MLt27XK3CJJlmUAgwMMPP0xXV5eYXr+Kbdt4PCKtdT3bcdANm8xynamlClO5KplinaVyg0K1wXLdwLQc8EBIkUlHVGKr9z9cM8i0uUdiUPWKGVuCIHwmIvi6XY0K6CWwDJrJjDvJA7IP1DAowU+9tWmaFItFHMfB5/MRCoWQZRnTNFleXsayLGzbRtd1932AYDBIOBy+6eqSx+NBVVX6+vpIpVL4/X4cx8EwDHK5HPV6Hcuy8Hq9FItF9zFbx5PP56nVahiGgeM4qKpKMBgkEolgGAZzc3N88MEHAAwNDbmpzkAgwPbt2wkGg276slqtUi6XqVQqWJaFLMvusfv9fizLIp/Pu2lMy7IwTRNZlonFYkSj0U8NWizLolKpUC6XqdfrOI6DLMv4/X4SiYSbcrVtm+XlZTfQdBwHr9dLPB53z2O1WqVUKlGr1QDwer3u49TrdcrlMpqmoWkaqqoCkM1mWV5epru7G0mSqNVq7nl1HIdGo0EikSAajZLNZt3vpeM4BAIBQqEQwWAQWZaxbZt6vU6pVKJcLgO4wXQqlXIvb29vR1VV93u/tLR008vvNbbjYFoO1YZFqW6wWNIZmV/m1JUC5+aXKVQbAPh9MgFFpiPS7ELsjTeHmfbEm9v1hP0+FO+9+TUKgvDlJoKv25U5DeOHoTQPpn5nP7dXhXAnrHsS+h791JsXi0Vef/11dF2nu7ubxx9/nGg0yvLyMr/5zW8oFArous7ly5cpFApu4LRv3z6eeeYZtm3bRjC4NsizLItcLserr77KmTNn+Id/+Ae6urrIZDL853/+J+fPn2d5eZn29p3eCNkAACAASURBVHYWFhbcIAEgn8/zf//v/2VkZISrV69iGAbr1q1j7969vPjii8zMzHDo0CFmZ2dZWlri8uXLRCIR/viP/5hdu3bxz//8z+zdu5c/+7M/IxgMcunSJQ4fPsyxY8colUpEIhH279/PE088wdDQELlcjp///Oe8+eabrFu3jkKhQDabJRKJ8PWvf52vfvWr+Hy+TwzAKpUKR48e5ejRo5w9exbLsohEImzatInvfe97dHd34/F4KJVKHDx4kDfffJOlpSUMw6CtrY0/+ZM/cYPG48eP884773Dy5Ek8Hg/JZJKtW7fyve99j7Nnz3L06FG2bt3Kjh07WL9+PQCvvPIKb731Fj/5yU9QVZUzZ87wP//zP1QqFTweDwsLC/zpn/4pzzzzDP/2b//GpUuX3ABw+/btPPHEEzz66KNEIhHq9ToXLlzgd7/7HUePHnWD3/Xr1/M3f/M3vP322xw6dIi/+7u/Y8OGDWiahuM4/PrXv77h8ntRw7TJlnROXMlzfCrP2dkii+UGHiAe8PHM5nbWtYXoSwRIR1R3JavVgajIEj6vhCxWEQVB+IKI4Ot26ZVm4FWYBrN+Zz+313/tGG6BLMvE43HOnj1LJpNheHiYaDRKpVLhgw8+IJFIMDQ0RDQaxTAMLMuiXq+TzWb57W9/S29v7w3BV2uVK5vNMj09TaPRYHZ2llOnTjEzM0M6nWb37t3Ytk0ul2NmZsZNObae6EOhENVqFdM03fsODQ2hqir9/f1EIhH6+vo4cOAA4XCY/v5+dF1namqKwcFBdF2nUqnw0UcfcebMGYaGhvD7/dTrdT766CPC4TBtbW0YhsGVK1e4cOECO3fuZHBwkGKxyEcffcTExASXL19m3bp1+P3+jz/lXi+pVIrt27eTTqexbZv5+XkKhQJnz57F4/EQiUR4++23uXjxIuFwmIceeghFUQgGg+5xTE1N8eabb2JZFk8++SSqquL3++no6MDv91MqlchkMnR1daHr14L6bDbL+Pg4uq4jSRK5XI4TJ07Q39/Po48+im3bbkDUqqszTZNGo0Emk+Gdd95h48aNeL1eMpkMr732GrVajf379xMIBJBlmUQiQSAQcFfxRkdHCYVCdHd3k8lkyGQyVKtVZFm+paaJO6mim+QqDSazFSaWKkxkK0xlqxRqDWwHtnVH6E8EGEgG6U0EaA+rJIIqEb8Xr+hCFAThDvtMf0EbjQbVapVCoYBhGGvSPTerAbIsC13Xyefz6LqO4zhIkkQ0GiUSiSDLMh6Px02TVatV9wlo9eNKkoTjOO7tlpeXsW0bWZbRNM1NA32hf1DVYHP1Ce7eypf66SlHAE3TGBoa4ty5c4yOjlIul2k0GpRKJcbGxkin0+zbt89Np9m2TaVS4ac//Snvv/8+3/72tz+2mH61qakpTp06haIoHDhwgKeffpq5uTmmpqYYGRnBsqw1x7Nhwwb38/385z/nvffeY3Jykt27d7Nr1y5SqRT79u3jL/7iL9yfj4sXL7qfrxXwjY2NUS6X+cY3vkF/fz+Tk5P8+Mc/ZmxsjIceeohEIkGj0cBxHIaHh9m/fz+6rlMsFikWi4yOjtLV1fWJwZeiKPT09JBKpdzU7NGjR/nwww85ffo08Xicnp4e3njjDcLhMI899hhPPfUU0WjU/blfWFhgbGyM06dP8/zzz/OXf/mXBINBTNPEMIzfayWp1Q3a39/PH//xH7s/841Gg927d9NoNFNrhmG438evfvWrKIrCzMwM//u//8tTTz3F97//fRKJBLZtu8cwMDDA1q1bOX/+PKlUikQiwblz52g0Gqxfv55YLPaxna13UsO0qRnNTX0zxTqXF8ocn8xx4WqJzHIdv1emLxlgqCvK3oE4m9NhumOaCLQEQbjrPlPwlclkOHHiBK+++ioLCwuEw2H279/PgQMHePjhh2+4fbVaZWxsjJ/97GdMTU3RaDQIBAK88MIL/OEf/iHRaNStEXrttdc4ceIEU1NTAOzZs4cDBw6wa9cuQqEQpmmSy+X41a9+xa9//Wuq1SqJRIJt27bxve99j66uri/2j2x6B8QH737N1y1QFIXu7m40TaNYLFIoFFBVlUwmg9frJRKJYNs2v/nNbzh79izz8/M4jsPExIT7/ajXP311b3FxkUwmw/79++nr68Pn89HV1UVfXx+dnZ3uE3a1WuXUqVO8//77nDt3DsuymJ2dxXEcZmZm2LRp0y3VE+m6zsTEBKqqsmPHDqLRKH6/n1gsxo4dO9yvoVXvlE6n6e/vJxaLkc/n6enpIZ/Pk8vlPrURwDAMMpkMhw4d4v3336dWq7lpxa1btzI8PEy9Xufy5cs8+eSTPPbYY4RCITwej/uiIJ/PMzs7y+bNm1m/fj3BYBBJkvD5fHi93t+rhkpRFPr6+ujt7SWRSLgrUeVymXfeeYcPP/yQyclJHMdhamoKj8dDJpPBtm0ymQw9PT0MDAy4923VpkmSxMDAAMVikX//93+nr6+Phx56iGPHjuH1etm7d+8nNlfcKbbjMF+sc26uyLHJHBfmS8wUajRMm+6Yn+e3dLBnIM66VIiOiJ+AKuP3ySLwEgThnnDbwZfjOJw9e5ZDhw7R39/Pli1bsCyLc+fO0dbWxuDgIOFweE164tKlSxw5cgS4VkTdqr959913eeqpp7Asi9HRUU6fPk0gEODZZ5/Ftm3y+TyHDx+mr68PTdPcJ5m5uTn6+/vp6OhgaWmJ+fl5zpw5A0BPT89nPD2fQAneUrH7vaBVHJ9Op0mn00xMTDA3N8fCwgJ9fX1IksSFCxcYHx8nHo8zNDSEJEkcPHjQDZJvpUvRMAx0XScUCuH3+5v7fykKfr8fVVXxeDzU63WKxSKHDh3C4/Hw5JNP4vV6OXPmDNPT026q7JNWoVocx6FWq+HxeAiFQm7w4PV6CYVClMtlarUatm3j9XrRNA2/3+92SbaOsbUq9kmKxSK//vWvKZVK7Nixg0AgwPz8PHNzc9i27T5GKy0XjUaRZdk9/x6Pxz0/gUAAv9+/5vrV36vWx61jaq0OtlYOoZlKDoVCa9KEhUKBy5cvc/LkSRRF4emnn8br9XL06FGmp6cxDINqtUqj0UBVVVRVde+7+hhisRidnZ1IksTS0hJjY2OcO3eO3bt3s23btrtS6+U4YFg2V5frXMlV3fTilaUqV5d1vLKHzekwA8kgA6kAg6kgA8kg8YCCpojOREEQ7i23FXy1uqUuXLjA+fPn+dGPfsTQ0BDZbJYf//jHTE5OMj097daYtIyOjnLs2DF3ZWBwcJBLly7xxhtv8OabbzI8PEylUuHChQtks1lefPFFvvOd72CaJi+//DIHDx5kfn6eeDzO8vIyb731Ful0mq9//esMDw9z9OhRDh48yKlTp4hEIl9s8PUl1NPTw6ZNm9xibMuy2LRpEz6fzy2Qf/755/nmN7+JYRgUi0U3uFjdrfhxfD4fqqpSqVTcFKZhGNTrdTfNXK1WWVhY4OTJk7z44ov84Ac/QFVVXnnlFX7zm9/g8XhuGJvgOM5NgyOPx+MWg5fLZTcdaJom5XIZx3HcDkNJktxgp3Xf1uOvbgb4OMvLy7z55pvs3buXb3/72/T09HDq1CkOHTrExMSEe8yBQADLsigWi8TjcXdVqdVpqqoq1WrVbWpopdBbKXiv14vP50PXdUzTxLIsqtUqtVrN7V5sHX9r/EZLPp9nfHycyclJXnzxRf78z//c/Trz+bzboakoCrquo+s6hmGsOcZW12M8Hqerq4tCocAHH3zA4uIioVCI/v7+O9bl2Jo6XzMsyvVmTdf5+WVOTRf4aKZAsWYgeTx0hP1s74myZyDOrp44yZAiuhQFQbin3dZfqEajwZUrVzAMg3Q6TUdHB5FIhHA4zPDwMLIsc/bsWbeVvmV5eZlCocDAwIDbrr5hwwZM02RkZIR6ve7epq+vj/b2dvfJIplMkkgkGB8fJ5PJuN15Pp+PHTt2uLUqQ0NDjI+PMzs7+7mcoPtJb28vmzZtYnR0lCNHjnDp0iU2bdpER0eHmwLWNA3DMBgbG2NycpJ8Pn/Ls7na2tpIp9OMjIy4Ky2ZTIbp6Wnm5+cxDAPTNNF13R2voCgKlUqFyclJzp8/76Y3WytTgBvIXU9VVdatW0ej0eDMmTMUi0W3luv06dPous7g4CCKonzmc+c4DvV63U3TAkxOTvLhhx9SrVYB8Pv9bNy4kVKpxJEjR9wA0LIsarUa8Xic7u5uLly4wNjYGNVq1a21aq3QtcZCzM/Pk8/nqdfrjIyMMDMz86lBomEY7qpha1eAxcVFJicn3RXMZDJJOp1mZmaGyclJN+W6+higWWO5f/9+FhcX+fnPf05vby+9vb13dLyEadsslRu8P57j/zsyyY9fP8f/e3CMgxcW8ODh8fUp/s+B9fw/X93CDx8f5LH1KVJhsUm1IAj3vtta+TJNk6WlJRzHIZFIuCkURVFIp9NMTk6ysLCAYRhr7td6UlhYWKBYLBIOh5mfn2d+fp5cLke5XHbTQ5cvX6ZYLLrdd/l8nrm5Oebm5sjlcvj9fkzTRFVVwuGwW7jf1tbmznQS1kokEnR3d7szsdrb22lvb0dRFKrVKqOjoxw6dIipqSlM02RhYcGdCXYr+vv7GR4e5q233uLgwYNcvHjRreNqpeECgQDt7e10dXUxOjrKv/zLvyBJEmNjY2tSdZqmsW3bNhYXF3n55ZdJpVLs2bNnTb2Roij09vaybt065ufnefXVV9E0jVqtRjgcZsOGDfT29t7wc3g7AoEAe/fuJZ/P82//9m+EQiFmZmbWDHqNRCK88MILnD9/nv/93/9lYmICRVEIhULs2LGDZDLJ+vXr2b59O3Nzc/zrv/6r+zvR0dHB448/Tk9PD5s3b+btt9/m17/+NefPn3fHerQaUj5OLBajp6cHRVE4fvw4hUIB4Ibz32oIKJVKvPzyy263YzKZ5LnnniMejxMIBNixYwfvvfce+XyenTt3MjAw8JnP4ydppRYXyzrTuSoT2QqT2QpTS1WuLtexgQ3tIfqSAQZX0ov9iQDtET+qVxL1XIIgfGncdtqxUmmOOVj95CxJkltkXKlUbkhVpdNp+vr6GBsbIxQKUavVGB0dZXZ21u0ISyaTdHV1ceTIEaamprh48SKWZXHlyhUWFxfdfQI9Hg8+nw+fz+e+GldV1X3yXd2mf73rB2YC5HK5NWmd+1EwGKSjo4Oenh533EMikXD3aWx1G05PT9PT00MikaCtrc3tNGytNKVSKff8p1Ipent7URTFbXJopaMvXrxIe3s7oVCI3bt3E4/HicVibkH86dOnefPNN4nFYgQCAXbv3u2OXAiFQjz22GO88847vPfee0QiEdra2ti1axf9/f2kUil3MOvOnTspFos3zPnasWMH7e3t5HK5NccJ18ZvGIZxQ23izUQiEZ5//nkOHTrE22+/TSgUoquri61bt6LrOuFwmHA4zFNPPYVpmvz2t79lYmICy7Job2+ns7PTLfh/7rnnOHz4MIcPH0aSJFKpFENDQ+zZs4fu7m50XeeDDz5gYmLCLdBPpVJurZjP5yMSidDd3U00GnWPMZlMsmHDBvr6+rh48SLT09O0tbURDAbZs2ePO6Q2Ho/zta99jYMHD/Lee++56dkNGzbw+OOPE4/H3WaJWCxGMBhkx44ddHd3f+4/k47T3PKnZpiUdYtcWefi1RKnpgucmV1mvljDK0m0h1V29kTZ3R9nZ0+MdNQvUouCIHxp3dFhPTt27ECSJF5//XX+4z/+A0mS6OzspFKpuJ2O6XQan8/H5cuXOX/+PEeOHCEQCGAYBgMDA26R9GdRqVR47733OHr0KCMjIwDMz88TDAZvqbbpy6yjo4N/+Id/wDAMVFV1U7vr1q3j7//+790RBa1J8IA7wb67u5uf/OQnbjCWSCT49re/zUsvvUQ6nUaWZdLpNN///vfdmiafz4dt20iS5E55dxyH7373u3zjG99wJ823/mma5haRP/HEE+zatYtareYGS4FAgB/96EcEg0G3W3Djxo10dnbyta997YYJ9zc7ToBwOMyBAwcwTRNJktxU4sdpBYPbt2+nVqshSRKKouD1erFtm0gkgiRJhMNhnnnmGfbs2eMG89dPuN+7dy+bN2+mWq26tVuaphGPx5FlmfXr1/P3f//3GIbhpl91Xce2bXfCfTgcZuvWrYRCIfcYJUkinU7z13/91+7tW0Fla2VY0zRkWWbLli10d3fzrW99y71eVVXa2toA3F0GAPr6+uju7v7Uc3Q7TNumUDU4M1vg+GSej2YKzBXqNCybkOrl8Q0phvtiDHVFSYYUIn4f2spAVEEQhC+r2wq+JElyh262Cp2huSLWqnNpPTGulkwm2bZtG41Gg2w2i2maxGIxyuUyFy9exO/3EwgE8Hq9HDhwgIGBAZaWllBV1a31SiQSRCIRfD4fhmFgGIb75K7rOrVabc22LDfj8/ncdFRnZ3NW19GjR8lms/d96qKVqrue3+//1AaFVpDW0ho8ev3j38pMsFvZXDsaja5Z2Wnp7+9f8/Gn7S15s+NsbS10q1odjDc7nutvF4/HicfjH3ub1irZx9E07abfo9Vaq1+rtbpLu7q6PvG+8Mnn7MqVK4yMjHD8+HHq9ToHDhwgmUzecvr50+iGRbFmMLl0rWtxMlshW9bRTZt1qeYg1IFUkMFkkL5kgM6VlS7pPv/9FAThwXBbwZfX6yWZTAKs2cevNU3bcRza29tvGMTo9Xppb2/nK1/5itt6v7CwwOjoKFevXkXTNLeDa9euXQwPD7u3+6//+i/m5uZIp9OkUikajQZerxdd1ymVSoRCIYrFIouLi8Tj8U99ctu6dStbt251L3Mch7feeuue3a9O+OJcv9fk9TRNW7M34v0um81y7tw5Tp06xb59+9wdBj4Lw7LRTZuKbrJY0plaqvLhVI6zc8tM56rIkofOqJ9tXVH2DSbY1h1lIBlEljyIeEsQhPvNbQVfrdUTRVHIZDIsLCzQ1tZGqVTi5MmTbNy4kaGhoRvmATUaDberTpZld1xEvV5n3759BINBd3J9rVZDURQkSWJubo4rV66Qy+VYt24d6XSaq1evsmHDBhqNBqdPn2Z4eJjJyUlGRkYYHBy8pVf/ggDNEQ2vvPIKp0+fJpPJ3HD9jh07eOKJJ9i7d+8Xknq712zevJnu7m6++c1vEgwGicVin6lj1HEclsoNLi+UOTaxxJnZIhPZCtWGRSqssm8wwZ7+BJs6QnTHNUKqF03xisBLEIT71m2nHTVN46GHHuLKlSu88cYbvPvuu26NT39/P4lEwh32mEql6OzsJJfLcfnyZUZHR91Vhkwmw+DgIMPDw4TDYWzbZmlpiV/96lcsLy8jSRLVahXDMHj66adJp9OoqkokEuGZZ55hdHSU//7v/+b9998nm81Sr9d5/PHHv/DOLOH+4ff72bJlC5FIhGKxeMP1PT09dHd3fy4jK74MWinJjo6O27p/q4g+U6wzW6hd61rMVZnNV3Ec6EsE6F8ZhDqYCjKQCtIWUgj77/62RYIgCF+02y64lySJbdu2oes6v/jFL9zthfbt28fQ0BDBYJDJyUlkWca2bdra2qjVaszOznL48GGWlpbQNI3169ezadMm9uzZ4xYvVyoVPvzwQ6anp5EkCb/fz9NPP80LL7xALBZzJ5r/wR/8AaVSiY8++ohz58652wtt377dreX6vHg8HndV7tNa/oUvl3A4zJNPPnm3D+NLrTXPzLRsqobF5FKFiVyDj2YKnLxSYLGkY9g2yaDC1s4Iu/vj7B6Ik474CSj31ibdgiAIX7TP9Fevs7OTZ555huHhYTcoaXWZKYrCSy+95BYBa5pGT08P8XicRx55xO0ya61iteYlSZJET08P//iP/+h23rW6uyKRiLv60Ko7+/rXv86BAwdu2Fj786zdanWkmaZJtVp1mwIEQWiyLItSuUK+XOfSYpX/ObrERF6nolsEFZlt3RGGe2Ps6I3RHvYT0bwEFC8+WbyIEQThwfOZIghFUVAU5WO7xhKJxJqPW/vJXX/5aq19CPv6+j7xc6+eM3V9J9vnTZZlwuEwuq67s8HEypcggO2AaTW3AMouVzk7V+J0pkq24tAV1eiJayv7LQYZSAboimloiiy6FgVBeKCJ5Ztb0Fp5AyiVSu4+hYLwIHEA23aoGxaVhkW1YVJrWDRMG91yKDdszmcN5iuwoSPMcG+c4b4Y/cmg2NxaEARhFRF83YJWOjQcDhMIBETgJTyQbMehXDc5P7/Mh5k8H02XmM3XsByHqOZjqCvKw+tTfKcjQkfET0TzEVBkMYleEAThOiL4ukUej8edwi4IDwrDsinXTa7kmwNRJ5cqTGarzBfrlHWbjniInrjmdiwOJIN0xZpF9LIkUouCIAg3I4IvQRDWsGwH3bSpNkxylQaz+RonruQ5PVNgPFvBtiEZUliXCrJ3IM6uvjgb20NiAr0gCMItEsGXIAhrLNcNppaqfDCR4+R0notXy5TqJhG/l4c6wuzuT7C1M8JAKkBIbXYtisBLEATh1ongSxAecI4DuWqD+WKtmVrMVphcqjKdq6KbNqmQysN9sTUDUdMRP7GAIibQC4Ig3AYRfAnCA8h2HOpGM7VYrpuMZyucnStyYirPTL5GuW4S1Xw8lA4z3Bdj70CC3niAaEBMoBcEQfisRPAlCA+YVuB18WqJk1fyHJ/KMblUpVAx8Eoe1reH2NkTZbgvTldMIxbwEVxJLQqCIAifnQi+BOEBYNkOFd1kttBMLU4sNdOLs/kay3WTqN/Hlo4I/akAgytDUXsTAYKKjFcWQZcgCMLnSQRfgnCfsp1W16LFcs1grlDj9MpeixevlmhYDmG/l/WpEMN9MR7ui7EpHSaoekXxvCAIwhdIBF+CcJ+qGxbj2QonrxQ4MZVnNFOiUDOQPR4GU0F29cXY2ROjPxkgpvkIqDKqV2z9IwiC8EUTwZcg3Ccs26FmWMzka0wtXetanMlXKVQNQn4vmzrCbsfiYCpATzxARPPhFQNRBUEQ7hgRfAnCl5jtOBiWTUW3WK4bZIp1PpopcGoltVgzbMJ+Lz1xjT39CR7ui7O5M0xIFRPoBUEQ7hYRfAnCl1i1YZEp1jg+mefDqTzn5pfJVw1Ur0Q6ojLcH2dHd4wN7SEifh9BVcbvk5FE4CUIgnDXiOBLEL5klmsGCyV9TdfiVK5KuW6i+WQ2DIToTwaa6cVkkO64Riqo4pE8iJBLEATh7hPBlyDc4xwHdNOi1rAo6yYz+SqjmRLHJ/OMZcsslRsEVS/r20Ls6ImybzDBurYgbSEVjyieFwRBuOeI4EsQ7mGOA4ZtM7VU5cxMgWOTeS4vlFko1bEdh/5EkCc2pNjdn6AvGSAVUggqXlSvJAIvQRCEe5QIvgThHtOaQJ8p1phaqjKRrTCRrTCTr5ItN9B8Mrt6Y/Sv2muxP9HsWlTFFHpBEIR7ngi+BOEe4DjQsGxqjWbX4mJJZ2S2yMnpPCNzy1R0C79Pojuusasnxu6BBNu6okQDYkyEIAjCl40IvgThHtCwbOYKNT6aLnB8Ks/Z2SLZso7tOHTHNP5gYxs7e2NsbA8RDzZTi5oiI4vUoiAIwpeOCL4E4S5wHIe6aZMp1rmSqzY7F7MVpnNVFss6XsnD9u5ocxjqqr0WUyEFn9hrURAE4UtNBF+CcIfYjoNpO9QaFqW62Uwtzhc5daXA+fll8pUGqk+mM+pnV2+MPQMJtnVFSAQVsbm1IAjCfUQEX4JwhximQ7asc+JKcyDqmdkiiyUdgHjAx3NbO9jVG2NzOkwsoBD2e9F8MrIkAi9BEIT7yWcKvnK5HFeuXOHUqVOUSiVUVWXdunVs2rSJvr6+G25fr9dZXFzk+PHjLC0tYVkWPp+PoaEhhoaGCAQCSP8/e/f23MaZ5nf8i/OxcSQAkuIJJEVKpGSbso72jMceZxyPN1uZra3dySY1V5ukMv/D3u1l/oLUVmWvMjveiylPbXnitaXU2pZlywcdbFESKfEknkAQ5zPQ6O5cNAmLkmzPULYkis+nCgUCREPNFqX+4Xne922rlUqlwldffcXS0hLZbBaAcDhMf38/zz33HIqiUCgU+Ld/+zfS6TStVgubzYbFYiEUCvHjH/+YeDyOw+F4mB9PiIdWa7XJVVssZrZmLWarLGWq5GsqumEw0RtgMOJlaGtB1P6Ih0TAjd1qRYZzCSHE0+mhwtfS0hLvv/8+H330EaVSCY/HQzKZRNM0uru7cTgcO9YaymazfPXVV7zzzjtsbm4CYLPZKJfLKIpCMpnEbrezubnJ2bNnmZ2dpVgsYhgGfr+f0dFRenp6cLlcFAoF3nrrLZaWlrDb7fh8Pmw2G729vRw5coRIJCLhSzwWrbZOQ9Wottqkig3mNit8tpDnZqpMqlTHZbfRH/Ey0RPgZDLMoe4AfWGPrMslhBD7xK7Dl67rXLp0iQ8++IBf/vKXDA8PUyqV+Id/+Aemp6eZmJggkUjgdDo721y9epVz584xOjrKL37xC/r7+5mfn+f27du8/fbb/OpXvwJgZmaGmZkZnn/+ef7sz/4MwzB4++23+eyzz7h58yYej6fznqdOneLll19mYGAAl8uFw+EgFovhcrke4rAIsTu6YZAqNri+XuKzhRw3UiWW83VabY3ekIefHkpwYijMcMxPIuDG5zSvtSjBSwgh9o9dhS9VVclkMuTzeaxWK+Pj44yNjZHJZBgYGKBerzMzM0MwGNwRvtLpNMvLy5w5c4aJiQl6enoIhULcvHmTS5cu8Zd/+Zc4HA5qtRrlchmv18vQ0BAAXq+Xer2Orus7TlSBQID+/n6SyeSOUCbEo7C9Av1GqcFyrtZpL97JVUkVzVmL4wmFoS4vQ3ctihr2OvE6bY9794UQQjwGuw5fa2trqKpKPB4nEong9XrxV0i1gQAAIABJREFUer0cPnyYVCrF7du3efbZZ3ds12w2aTQaBAIBvF4vdrudUChEtVrl9u3b1Go1otEoXq8Xt9tNLpfj+vXrGIZBoVDA6/USDofxeDy0Wi0AyuUyKysrWCwWAoEAPp8PRVGw27/5R9M0jWq1SqVSodFoAOb4NU3TMAxjN4dE7COGAW1dp65qVBpt8rUWN9ZLXLlT4MuVIoW6isUCccXF0QNBjg9FeK4/RNTvkhXohRBC7C58aZpGsVjsDHC32cxP8NthKpVKUSwW0TRtx3ahUIhwOMzNmzeJxWJ4vV6++uorFhcXqdfrVCoVBgcHGR8fZ2JigosXL/LWW29hGAZ9fX0cP36cwcFBAoEAxWIRgM8++4yrV6/icrkYHR3l+PHj/OxnPyMSiXzj/lerVT7++GM++eQTpqenAVhfX8fn86Hr+m4OidhH2rpOrtri2mqRzxdzXFkukCo1aaoaEb+TMyNRnusPMdEToMvvwu+243XaZCV6IYQQwC7Dl2EYtNtt8w3s9h1twO3H7Xb7virS+Pg4+XyepaUl/vCHP/DJJ5/QbDYpFAp4POaAY1VVqdfr1Go1kskkx44dAyCTybC5ucnGxgbBYJBAIMDPfvYzCoVC58/b2Njg0qVLxGIxJiYm6O7ufuD+OxwO+vv7UVWVnp4eAD755BMymYyMvREP1GrrZCpNlnM1FrJVFjM1lrJVNkoNNN1gJOZjIOJjqMtLssvHQMRLIuCWC1wLIYS4z67Cl8Vi6bT17g1Z24/vDWUABw8exOl08rvf/Y65uTlu3LhBMpnEarXi9/txOp2dNmKpVOJHP/oRf/EXfwHAb3/7W9577z1u3bpFJBJhcHCQ119/Hbfbjcfjodls8rvf/Y6zZ89y5coVAoHAN4Yvj8fDxMQEExMTnecMw+DcuXNYZU0lcY9qs81GqcG11RKX7pjrc60V6titVmKKi+cGgjw/GOHZvhA9QTdOaS0KIYT4FrsKXzabjWAw2BmLtd1ebLfbFAoFAILBYKcduW17KYq//du/pdlsomkaFouFf/zHf+Sjjz7C7XaTTqeZmZkhHo+TSCRwu90A9PX1MTw8zMbGBtlsluHhYYLBIFarFavV2lljbHJysjMZQIjvw/W1Eu/d2OD87QzFmorfZefMSJSpgRCTvUFifheK24HXaZNL/wghhPhOuwpfDoeD3t5e7HY76XSaXC5HV1cXtVqNGzduEAwGGR0dvW+5h+2wFY/HsdlsVCoVrly5gsPh4PDhw/h8Pmq1Grquk8vlqFarnW1rtRqlUomenh7sdju6rqOqKna7vVOtqlar5PN5XC7XjlmWQuyGphvUWm2ur5f4dCGHFTiRjPBsX9BsLUa99AQ9uOxWrNJaFEII8UfaVfiy2+3E43HC4TCapjE7O4uqqhSLRZaWljh58iQjIyPUajU0TcPpdOLxeKjVauTzeVRVxTAMisUi58+fx2az8cILL+D3+2m1WnR1dfHZZ5+xuLjI7OwsYC7oWiqV6O7uJhgMUqvVuHPnDgAulwtN07h9+zabm5ucOHGCaDT6/R0lsS+1NJ3lXJ2bqTKrhTqvHorz86M9vDASlRXohRBC7Nqux3xZrVaOHTtGqVTin//5nzsr3A8NDTE5OYnH4+HcuXPY7XaSySSTk5Ok02kuXrzIO++8Qy6Xw+l0Eo1GefXVV3n11VdRFAWPx8OxY8e4du0aFy5c4OzZs4DZxjx48CDPPfcc3d3drK2t8b/+1/9iZWUFwzDQdR1FURgdHeXFF1/srA8mxG5VGm0+vLXJXLpCyOPglUNxJnoUCV5CCCEeyq5XuLdYLAwNDfHKK68QDocpl8u43W6GhoYYHx9HURQOHjyI1Wqlq6urswzF+Pg4rVaLarXaWY1+YmKCrq4urFYrdrudAwcO8O///b9nZWWls6REJBJhYGCA7u5u3G43wWCQH/3oR+RyOQzDwDAMwuEwfX199Pf3y4Kr4qHUWhprxTqfL+VRNZ1n+kIMd/kIep0SvIQQQjyUh7q2YyQSIRKJMDU19cDvnzx5csfjWCxGLBbjxIkT3/q+gUCAl19++VtfE4/H+eu//us/bYeF+CPlqk1mN8rMbpQZjPo4PRyhy+/CKQPqhRBCPCQ5kwjxALMbFT6czdBSdcbifk4PR/G5HuqzihBCCAE8ZOVLiKdNWzco1VVmUmVupcskYz7GuxXiihuHTfqNQgghHp5UvoS4S1PVmNuscGujTL6mMjUQ5mBCweWQleqFEEJ8PyR8CXGXSrPN+zObLGSrdPmdnB6JkOzyPe7dEkII8RSR8CXElnJD5U6uxpXlAhZgqj9Mf9grY72EEEJ8ryR8CbElXW4yvVZkKVsl6ndxZiRK2OvEbpV2oxBCiO+PhC8htsymynx4K4NuwFhC4fhQGJ/T9t0bCiGEEH8C6aeIfU/VdLKVFjMbZZayNca7Fca7FSI+JzaLfD4RQgjx/ZLwJfa9hqpxY73ErY0KdVXjxFCYg3E/dqsELyGEEN8/ObuIfa9UV/m3mTR3cjW6A26OD0UYiHgf924JIYR4SknlS+xr+VqL+UyV6+slXHYrzw+G6Ql68MhYLyGEED8QqXyJfW290ODLlSLrxQY9QQ8vjHYR9DiwyoKqQgghfiASvsS+ZRgGN1MlPry1ic1qYazbz7N9QbxS9RJCCPEDkraj2JdabZ31Qp3ZjTKpUpMjvUHGEwoBqXoJIYT4gUnlS+xLtZbGl6tF5jarGIbBqeEIo3G/BC8hhBA/OAlfYt8xDHOG4/uzm6wV6vSHvTzXH6I35HncuyaEEGIfkPAl9p1MpcnMRonZjTKK286p4QiJgBuXXcZ6CSGE+OFJ+BL7igEs52tcupMnW2nRH/ZyZqQLxW1HOo5CCCEeBQlfYt8wAF03mEmVuTCXxeu0cTChcCih4JaqlxBCiEdEwpfYN5qqxu10hdlUmXxV5bmBEOMJBZ/LjtUqZS8hhBCPhoQvsS8YQLXZ5tKdPPOZKg6bldPJKCNxn7QbhRBCPFISvsS+oOsGhbrKh7ObZCpNRmI+JnoDxBX34941IYQQ+4yEL7EvbJQaTK8Wmc9UCXudnBmJElNcOO3yT0AIIcSj9VAr3LdaLWq1GoVCAVVVsdls+Hw+FEXB6/Xe93pN02g2m+TzeZrNJoZhYLVaCQaDBAIBbDYbFouFdrtNsVikVqvRbDYBcDqdeL1eQqEQdrsdwzBotVoUi0VKpRKGYeB0OvH5fJ3XCAHmul6L2SqfLeYpNdocH4pwejiK3yW/I0IIIR69hzr7pFIpLl26xFtvvUU6nUZRFE6dOsXLL7/MsWPH7nt9rVZjbm6ON998k6WlJVqtFl6vl9dee42f//znBINB7HY7xWKRf/mXf+HSpUssLS2h6zr9/f1MTU3xi1/8glgsRqvVYmVlhT/84Q+cPXsWVVUZGBjg+eef77xGCMMAVdOZSVX4bDFH1OdkLOFnKOqTqpcQQojHYtfhyzAMrl27xvvvv8/g4CCHDx9G0zSuX79OLBYjmUyiKMqOCtStW7e4cOECAJOTkwQCAQqFAplMhvPnz/OTn/wEq9XKwsICV65cwe1287Of/QzDMFhcXOTKlSscPXoUh8OBqqq8++67bG5u8uyzzxIKhdjY2OD69etMTk5is9mIRCIPf4TEntZQNWY3ysxulCk327x2OMF4QsEjF88WQgjxmOzqo7+u69TrdW7evMmNGzf42c9+xn//7/+dv/qrv6LVarG4uMjy8jKqqu7YbmZmhk8//ZSRkRH+4i/+gv/6X/8r//E//kfa7TZnz56lVCpRLBZZXl5maWmJgwcP8j/+x//g17/+NePj46yurrKyskKhUCCfz/P//t//w+Fw8F/+y3/h17/+NSdOnKBarXL9+nXW19e/lwMk9i7DgHJT5dPFHIuZKn6XnVPDUZIx/+PeNSGEEPvYrsJXq9Xizp07qKpKd3c3iUSCQCCAoihMTU1hs9m4du0a9Xp9x3alUolCocDQ0BDxeByXy8Xo6Cjtdpvp6WkajQZgVtXa7Taqqu64NwwDRVEwDKMzJkxRFAYHB3G5XAwNDTE5Ocn8/Dyrq6sPf3TEntbWdbKVFh/dzlBqqhzuCTAa9xPxOh73rgkhhNjHdtV2bLfbZLNZDMMgEongdrux2Ww4nU66u7tZXFwknU7fV/lyu914PB7S6TTFYhFFUVhfX2d9fZ1cLkelUiEajdLf38/g4CDXr1/nf/7P/wlAOp0mmUzS29uL3W6nXC53Bti73eZyAcFgkFgsxs2bNymXy9+4//V6nYWFBebn51lbWwPg4sWLNBoNdF3fzSERT6C1Qp2rywXu5GoMRry8OBIl6nNit8lYLyGEEI/PrsKXrutUq1UA/H4/Nps5fsZqteL3+7FYLFSr1fuCTHd3NwMDA8zNzeH3+6nX68zMzLC6utqZCelyuUgkEvT09PDFF1/w6aefAtDf38/zzz+P3+/vtD29Xi8ul6vz/i6XC4/HQ71e78ySfBBVVVleXuaLL75genoagPX1dXw+H4Zh7OaQiCeMbhjMb1b5dCFPQ9UZjvk5mYzikxmOQgghHrNHeiZ65plnsFqtvP322/zmN7/BarXS09NDtVrtzHSsVqukUilWV1d56aWXeOmllwB47733+PLLL7lx4waJROKh9sPn83HmzBmOHj3aaXW++eabfP7551itUhXZ63TDoN7SmEmVubqcpz/sYbxboSfoxiFVLyGEEI/ZrsKX1WrF5/MBUKlU0DQNMCtilUoFwzDw+Xz3BZloNMqRI0dotVpkMhna7TahUIhKpcLs7Cxut5tsNsvc3Bxer5dkMsmRI0cAmJ+fZ2lpiZWVFbxeLx6PZ8c6YADNZpN6vY7H49lREbuXzWYjEAgQCAQ6z0Uikc46Y2Jvq7c0vlotMrtRptHWOTEUYSyhyNISQgghngi7Cl92u51oNApALpej0WigaRqtVotUKoVhGMTjcRwOx33bxeNx3njjDSwWC6qqkk6nmZmZYWNjA4/HQyaTYXV1Fbfbjc/n67xHMBgkEolQLpfRdR1FUWi1WlSrVRqNBk6nk2KxyObmJuFwGEVRHvLQiL1INwyKdZWP57Is5WqEfQ5OJiMMRX2Pe9eEEEIIYJezHZ1OJ/39/TidTlKpFOl0mnK5TLlc5vLly2iaxuTkJB6PZ8d222FJ0zQMw6BUKnHu3DkajQYnT57E5/Ph9Xrxer0sLS2RTqfRdR1N00in0ywtLREMBonH4wSDQbxeL+VymaWlJZrNJouLi0xPT3cG5ov9p9nWSZebXJzPoWo6z/aHGIh6Udwy1ksIIcSTYddtR4/Hw/j4OHfu3OHdd9/l/PnzaJqGw+FgcHCQSCTC5cuXcTqddHV10dPTQy6X4/bt28zMzFCv11FVlVQqRTKZZGpqCkVRsNlsHDp0iOnpaS5dukQ2mwVgZWWFaDTKoUOH6OnpQdd1XnnlFVKpFP/n//wfgsEgGxsbeL1eJiYm6Onp+V4PlNgbVnI1Li3lWSvWOdSj8OJIF2GvE5tV2slCCCGeDLsuB1itVo4cOUKz2eT3v/995/JCJ0+eZHJyEp/Px+LiIjabDV3XicVi1Ot1VldX+eCDD8hms3g8HkZGRhgbG+P48ePY7XZ8Ph+Tk5PcvHmTq1ev8u6772KxWBgYGODYsWMcOnSIaDRKs9nktdde23F5oe0ZkWNjY522qNgfDEDTDW6nK1xcyKIbBgfjCs8PhvHKavZCCCGeIA/Vi+np6eGnP/0pU1NTtNvtHRfWdjqdvP7661gsFpxOJx6Ph76+PsLhMKdPn6bdbmO1WnG5XAQCAex2e2eweyQS4a/+6q/4sz/7s85aYXdfWHv7cX9/P//pP/0n3njjjc6Ftb1eL+Fw+CEPi9hrNN2gVFeZ2ShzY73MaMzPeEIh4nNilxmsQgghniAPFb6cTidOp7MTiO5177UVXS4XLpfrO6+56HA4vvPC2BaLBZfLRTweJx6P/2k7Lp469Vaby8sFbm1U0A2DU8MRDib8srSEEEKIJ46cmcSep+kGhZrKx3MZVgt14gEXzw+G6Y94H/euCSGEEPeR8CX2vHpLY61Q54vFPBbgxGCE3pBHxnoJIYR4Ikn4EnveUq7KZ4t5NitN+sIeXhiJEvQ4scqCuUIIIZ5AsviR2LMMA9q6zuyGOcPRZrFwMKHwXH9Iql5CCCGeWFL5EntWW9fJVJrMpkrMb1aZPBBkvFvB73ZglXW9hBBCPKGk8iX2rGpL4/PFPLfTFew2C6eSEUbjfllQVQghxBNNKl9iT2rrBvlqi49uZ0iVmhwIeTg2EKYvJDMchRBCPNkkfIk9qVRXWcxU+XKliNth5cxwlJjiwmGXqpcQQognm4QvsSctZqt8upClWFcZiHg5NRxFcdtlhqMQQognnoz5EnuKYUBL05ndKPPZUh6Pw8pYt8KRA0HcDvksIYQQ4sknZyuxp7Q0nZV8jZlUmbVCg6mBMIcSAdwOq1S9hBBC7AkSvsSeUm22+XQhx/xmFa/DxslkhGTMJ8FLCCHEniHhS+wZqqaTrbT4eC5LptJkMOrlmb4QPUH34941IYQQ4o8m4UvsGdlKi9mNMjdTZYIeBy+OdhHxObFb5ddYCCHE3iFnLbFnzGcqfDKfpdZqk+zycSIZwe+yIx1HIYQQe4nMdhRPPN0waKgas6kyl+7kCbgdjCcUxrsVHFL1EkIIscfImUs88ZptnfnNKrMbFfI1lZPJCGNbwUuqXkIIIfYaCV/iiVdptPl4LstitkrQ4+D4UJjBqE+ClxBCiD1Jwpd4orXaOpvlBp/MZynUVEZiPiZ6giQU1+PeNSGEEGJXJHyJJ1qq1ODaaomFTJV4wM1LYzFCXgcWq5S9hBBC7E0SvsQTyzBgLl3hk4Usbd1gOOZjaiCMz2lDopcQQoi96qFmO7ZaLWq1GoVCAVVVsdls+Hw+FEXB6/Xe93pN02g2m+TzeZrNJoZhYLVaCQaDBAIBbDYb7Xa7857tdnvHthaLhWg0is/nw2q1ks/nqdVqqKqKdWvWm8PhIBwO4/F4sNtlMudepekGtZbGzEaZq8sFon4n4wk/w10+rFL1EkIIsYc9VDpJpVJcunSJt956i3Q6jaIonDp1ipdffpljx47d9/parcbc3BxvvvkmS0tLtFotvF4vr732Gj//+c8JBoOk02muXr3K73//ezKZTGfbfD6Py+XiV7/6FWfOnMHn8/FP//RPXLlyhVQqhdvtxmq1Eo/H+Zu/+RsmJibo6up6mB9PPEYNVeP6WpHZjTINVefnR7oY7w5gtVqk6iWEEGJP23X4MgyDa9eu8f777zM4OMjhw4fRNI3r168Ti8VIJpMoirKj+nTr1i0uXLgAwOTkJIFAgEKhQCaT4fz58/zkJz/B5/PR39/Pj3/8YyqVCrquo6oq586dY3FxEb/fj8/nQ1VV0uk0VquVsbExkskkbrcbRVHo6enB7ZZLzuxVhmFQbrS5MJ9lJV8npriYGgjRF/ZI8BJCCLHn7Sp86bpOo9Hg5s2b3Lhxg7/7u79jcnKSTCbD3//937O4uMjy8jIHDx7cEb5mZmb49NNPeemll3jhhRdIJpPcunWLd999l7NnzzI1NcXAwAChUIijR48CdEJWLpejWq2STCaJRCJsbGwAMDIywvHjxzl9+jSBQOB7OCTicWuoOqlig08XclSbbY70BhlLKER9MsNRCCHE3rerAfetVos7d+6gqird3d0kEgkCgQCKojA1NYXNZuPatWvU6/Ud25VKJQqFAkNDQ8TjcVwuF6Ojo7Tbbaanp2k0Gvf9WbVajS+//JJ2u83hw4c7Y8PE02u1UOfycp7VfJ2+sJefjMcIeByyrpcQQoinwq4qX+12m2w2i2EYRCIR3G43NpsNp9NJd3c3i4uLpNNpVFXdsZ3b7cbj8ZBOpykWiyiKwvr6Ouvr6+RyOSqVCqqq4nA4OtvUajWuXLkCwHPPPYfP58Ny11l4YWGBzc1Npqen6enpoa+vj6NHj6IoSmcQ/r3q9ToLCwvMz8+ztrYGwMWLF2k0Gui6vptDIr4HBqDrBrfSZT5dyGGzWhiJ+Th6IIjHIYFbCCHE02HXbcdqtQqA3+/vVKKsVit+vx+LxUK1Wr0vyHR3dzMwMMDc3Bx+v596vc7MzAyrq6udmZDtdrsTvnRdp1KpcO3aNYaHh3n22WfxeDzmjtvtRKNR1tbWuHXrFvPz84RCIUZGRlAUheHhYRRFeeD+q6rK8vIyX3zxBdPT0wCsr6/j8/kwDGM3h0R8DzTdoFRvMZsqM71Woj/iZbxbMcd6SdlLCCHEU+KRrsXwzDPPYLVaefvtt/nNb36D1Wqlp6eHarVKMBjEbrfvOMk2Gg2y2SwrKytMTk4yPj7eGUgfDAZ54403eP3117Hb7ei6zvnz57l8+TJnz57lpZde4sSJEw/cD5/Px5kzZzh69Gin1fnmm2/y+eeff2O1TPzw6q02V5cLzG5U0A2DHx/sYrxbkeAlhBDiqbKr8GW1WvH5fABUKhU0TQO+rlQZhtFZi+tu0WiUI0eO0Gq1yGQytNttQqEQlUqF2dlZ3G73jgH6qVSKhYUFurq66O7uxu/3d97T6XQyMDCA3W7H4XCg6zq5XI5sNsvS0lJnQP6D2Gw2AoHAjgH6kUgEm80mJ/rHRNcNCjWVC3NZNkoNDoQ8HD0QpDsgs1aFEEI8XXYVvrZbfgC5XI5Go4GmabRaLVKpFIZhEI/Hd4zd2t4uHo/zxhtvYLFYOjMZZ2Zm2NjYuG9h1OXlZWZmZhgdHaWvr29HmLNYLLhcLiwWCxaLBZvNRjQapbe3l9nZWWq12m5+NPGY1Foaa4UGny/m0QyD4/0Rkl0+Ql7n4941IYQQ4nu1qx6b0+mkv78fp9NJKpUinU5TLpcpl8tcvnwZTdOYnJzsjM/a1mq1qFaraJqGYRiUSiXOnTtHo9Hg5MmTnWratjt37jAzM8P4+DgDAwM7vqfrOqVSqdM2NAyD1dVVbt68SSgUkmUn9pilXI3PFnNslJsMRry8PBZDcTu+e0MhhBBij9l129Hj8TA+Ps6dO3d49913OX/+PJqm4XA4GBwcJBKJcPnyZZxOJ11dXfT09JDL5bh9+zYzMzPU63VUVSWVSpFMJpmamuoMkNc0jVqtRjqdJp/PMzw8TCKR2LEPxWKRf/3XfyWfz3eeS6VSnSA3MjLyEIdFPCqGAW1d59ZGmc8Xc/hcNkYTCuPdCm6HjL8TQgjx9Nn1gHur1cqRI0doNpv8/ve/71xe6OTJk0xOTuLz+VhcXMRms6HrOrFYjHq9zurqKh988AHZbBaPx8PIyAhjY2McP36803I0DIN6vY7T6aSnp4fBwUFCodCOP79erzM9Pc3c3FxnPbGuri4OHz7M6dOn6e3tfYjDIh6Vtq6TrbaY2Sgzm64w2RtgPKGQkLFeQgghnlIPNduxp6eHn/70p0xNTdFut3dcWNvpdPL6669jsVhwOp14PB76+voIh8OcPn2adruN1WrF5XIRCAR2zHS02WxEIhF++ctf8ud//uf09PTcNxA+Ho/z61//unOBbsMwsNvteDwewuGwXFR7j6g2NT5byDGbKmOzWvjJWIzx7gcvESKEEEI8DR4qoTidTpxO531VqW2RSGTHY5fLhcvluu/5e1ksls7g/G/icDg4cODAn77T4onR1gzy1RYfz2XJ1Voku3wc7gkQU+QyQkIIIZ5eMqhGPDaVZpvlXI3LywUswFS/efFsv0uqlkIIIZ5eEr7EYzOfqXBhPkuu2iIZ8/OTcZnhKIQQ4uknJQbxyOmGQautM7tR5spynqjfyVjCT7LLh8sunweEEEI83eRMJx65tmawUWowmyqzkKkynlAYTwQIe53YrHKFASGEEE83CV/ikas021yYyzK7UcHtsPHjg10cTPgf924JIYQQj4SEL/FItdo6m+UmF+ezVJptxrsVDiYUIj65jJAQQoj9QcKXeKSKdZWFTJVrayVcdisnhiL0BN14HLbHvWtCCCHEIyHhSzxSt9MVPrq9SbmhMhr38+ODMVlaQgghxL4iZz3xSOi6QU3VmN0o89VqkZ6gm7GEQl/Yg9MmnwGEEELsH3LWE49ES9NZydeZ3SizXmxw9ECQsYSC32XHKjMchRBC7CMSvsQjUWm2OX9rk9vpCorbwYujMUbjMsNRCCHE/iPhS/zg6qrGerHBZ4s5mm2dI70Bkl0+gh5ZzV4IIcT+I+FL/OBy1Ra3NsrcTJXxu+ycGo4SU1w4ZTV7IYQQ+5Cc/cQP7tZGhQ9vZWioGmMJPy+MRGWGoxBCiH1LzoDiB6PpBqWGykyqxMxGmaGoj7FuhUTAjd0mg+yFEELsT1L5Ej+YZltnIVNldqNCttJkaiDEWELB7bBhtUj4EkIIsT9J+BI/mHJD5f2ZTeYzFSI+F2eGuxjukhmOQggh9jcJX+IHUWm2WcnXubxcAGCqP8RAxCtjvYQQQux7Er7ED2Kz3OTGeomFTJWI18mZkShhn1PGegkhhNj3JHyJH8TsRpkPbmXQdIOxboUTyQg+l1w8WwghhJAekPheqZpOvqoykyqzmKkylvAznlCI+pzYrZL1hRBCCAlf4nvVVHVmNsrcSleoNNscH4xwMKHgkItnCyGEEIC0HcX3rNRQ+bebaZYyVRKKixNDEQYj3se9W0IIIcQT46EqX7lcjjt37nDlyhXK5TIul4vh4WHGxsYYGBi47/WNRoPNzU0+//xzstksmqbhcDiYnJxkcnISr9dLqVRieXmZq1evUqlUOtvWajXsdjunT59meHiYcDhMtVrl2rVrXLt2jVarhc/no7e3l5MnTxIKhbDIWlKPVKHWYiFT5dpaEYfdytRAiN6QG69TxnoJIYQQ2x4qfC0tLfH+++/z0UcfUSqV8Hg8JJNJNE2ju7sbh8OxIwBls1m++uor3nnnHTYOb62uAAAgAElEQVQ3NwGw2WyUy2UURSGZTFKtVlleXubDDz8kk8lgGAa6rjM3N4eqqvj9frq6uvD5fCwsLPDhhx/y/vvvYxgGbrebZDJJd3c3TqcTn8/3cEdH/ElSxQZfrRZZLdR5ti/ECyNRQl4HVquEYCGEEGLbrsOXrutcunSJDz74gF/+8pcMDw9TKpX4h3/4B6anp5mYmCCRSOB0OjvbXL16lXPnzjE6OsovfvEL+vv7mZ+f5/bt27z99tv86le/Ih6P8+KLLzI5OUm73UbXdWq1Gv/7f/9vLly4wKFDh0gkEhQKBd5++21UVeWXv/wlzzzzDFevXuXKlSt89tln2Gw2jhw58r0cJPHdDMNgZqPMh7ObWC0WDib8PNcfwuOUYYVCCCHE3XY15ktVVTY2Nsjn81itVsbHx5mcnOTgwYMMDAxQr9eZmZmh0Wjs2C6dTrO8vEwymWRiYoKxsTGOHTtGu93miy++oFar4XA4CAaDDA4OMjIywoEDB9A0jUAgwMjICF1dXbjdbmq1GlevXsVms3HmzBkOHz7MkSNHSCaTzM7OsrKy8r0cIPHdWm2dlXydmVSZtWKDyd4A490KQY8Tm1S9hBBCiB12Hb7W1tZQVZV4PE4kEsHr9eL1ejl8+DBWq5Xbt2/TbDZ3bNdsNmk0GgQCAbxeL3a7nVAoRLVa5fbt29RqNXRd37HNdsjSdZ3JyUkURcFisdBoNFhbW8PpdDIyMoLL5aK3t5fR0VFWVlbY2Nj4xv3XNI1SqcTa2hrz8/PMz8+Ty+XQNA3DMHZzSPa1uqrx1WqRuc0qmm5wMhnhYFzBZrUg0UsIIYTYaVc9IU3TKBaLWCwWQqEQNps5oHo7TKVSKYrFIpqm7dguFAoRDoe5efMmsVgMr9fLV199xeLiIvV6nUqlQqvVwu12d7ap1+tcvnwZRVGYmprC6/XSarVoNBq4XC6cTidWqxWLxYLH48Hv91OpVKjX69+4/9VqlY8//phPPvmE6elpANbX1/H5fPeFP/HtDANKdfMajiv5GgfCHqb6wxwIeR73rgkhhBBPpF2FL8MwaLfb5hvY7TsG1W8/brfb91WRxsfHyefzLC0t8Yc//IFPPvmEZrNJoVDA4/FgsVh2bNNqtcjn8ywsLHDixAkmJiZwu91omoamaVit1k7wAnPwvs1mQ9O0bw1RDoeD/v5+VFWlp6cHgE8++YRMJiMzJP9E2WqT2Y0yMxtlfC47J5MRuoNu3A5ZxUQIIYR4kF2FL4vFgt1ubnpvyNp+fG8oAzh48CBOp5Pf/e53zM3NcePGDZLJJFarFb/f36libSuVSqRSKSqVCoqiMDg4iNVqpdlsYrPZ0HUdXdcxDAOLxdIJZTabbcf73Mvj8TAxMcHExETnOcMwOHfu3LduJ3YywLx49p0Cm+Ump4YjvDAcRXHf/3cvhBBCCNOuwpfNZiMYDGIYBoVCodNebLfbFAoFAILBYKcduW17KYq//du/pdlsomkaFouFf/zHf+Sjjz7C7XbvmB25srLC7OwsIyMj9Pf3d6pcTqcTt9tNs9mk1Wqh6zpWq7XTuvT7/Xg80vb6IRmArhvMpEpcmMvgcdgYTyhM9gZxO2RdLyGEEOKb7KrM43A46O3txW63k06nyeVy1Go1arUaN27cQNd1RkdHcblcO7bbDlvxeJyhoSESiQRra2s4HA4OHz6Mz+fbUTG5c+cON2/eZHx8nP7+/s73rFYrbreb3t5ems0mc3NzNJtN1tbWuH37NgcOHCAejz/EYRHfpaVqzGeqzGxUyFRaPNMfYiyh4HPZZYajEEII8S12Vfmy2+3E43HC4TCapjE7O4uqqhSLRZaWljh58iQjIyPUajU0TcPpdOLxeKjVauTzeVRVxTAMisUi58+fx2az8cILL+D3+wGzBahpGqurqywuLvLv/t2/o6+vb8c+eL1ennnmGVRV5eOPP+6sdr+wsMCRI0fue734/hhAtaVx+U6e+c0qdquF08kII3E/0m0UQgghvt2ux3xZrVaOHTtGqVTin//5nzsr3A8NDTE5OYnH4+HcuXPY7XaSySSTk5Ok02kuXrzIO++8Qy6Xw+l0Eo1GefXVV3n11VdRFAUwK2S5XI5MJkO9XmdoaIhYLLZjH4LBIP/hP/wH/u///b/89re/5be//S1ut5vBwUGOHz9OMpl8+KMjHsjQDQo1lQ9mN0mXGiS7fBw5EKA74P7ujYUQQoh9btfLj1ssFoaGhnjllVcIh8OUy2XcbjdDQ0OMj4+jKAoHDx7EarXS1dXVWYZifHycVqtFtVrF4XAQi8WYmJigq6urM9h9e9mIH/3oRwwMDNDX17djLBiAy+UimUzy4x//mHA4jKqqeL1eent7GRwcxOuVizn/UDbKTa6vm+t6hb0OTg9HiSlunHaZrCCEEEJ8l4e69kskEiESiTA1NfXA7588eXLH41gsRiwW48SJE9/6vjabDUVReOWVV771NYFAgBdffJEXX3zxT995sSuGAUvZKp8v5inWVab6Q5wZieJ3y2WEhBBCiD+GlCrEH80wQNV1ZlJlPl3IEvY6GEv4GY75cEnVSwghhPijyBlT/NEaqsZMqszsRplSo82xgTDj3Qpepx2rjLQXQggh/igSvsQfxTCg0mzz2UKOhUwVr9PO6ZEowzH/4941IYQQYk+R8CX+KG1dJ1dt8dHtDMW6yqFuhbG4QsTn/O6NhRBCCNEh4Uv8UdaLDb5cKbCUrdHld3FmJErU78Rhk18hIYQQ4k8hZ07xnXTDYGGzyqcLOWqqxnDMx6lkBJ9LZjgKIYQQfyoJX+Jb6YZBQ9W5uVHi8p08vSE3490KB8JenFL1EkIIIf5kcvYU36re0ri2WmQ2Vaau6pwYDDOWUHDZrXIpISGEEGIXJHyJb6QbBuVGm4vzWe7kagQ9Dk4mowxFfY9714QQQog9S8KX+EZq22Cz3OTj+SwNVeeZviBDXT4CHsfj3jUhhBBiz5LwJb7RSqHGpTt5Vgt1ugMuXhztIuxzYrdKv1EIIYTYLZmuJu5jALpucDtd4eJCjrZmMBr3c3wojM9pe9y7J8QDGOZKwLoGevvre6O98zlDM19uc4LdDQ6P+bVV/isUQjw68j+OuI+uG1QaKjOpMtOrRYZjPsa6A3T5XditUiwVTyBdh3YD6gWo56Geg1pu6+v81881y4ABwQGIH4b4BIQGwBtFZpAIIR4VCV/iPrWWxpXlArc2ymiGwalklLGEXxZUFY+OYZhVKrUBahVaNVBr0Kpu3dfuf377e53HNWjXod28+43NClg5DenroFyAQA8EDoCyfd8NnrBZDZNAJoT4AUj4EjvohkGx3uLCXJaVfJ2Y38WJoTCDEZnhKB6WYVaojHtag50W4V2PNdUMTY3i11WrTgWrAI0SNLdvZWhVzNdb7WC13XXvBIfbDFOeMDj95p9RWoPCHdicAZsd3CGIjkLsMMQPQWgQ3EFwesHuAbsLbDLRRAjx/ZDwJXaotTTWCnU+W8phAMeHwvSGPHhkrJd4WLpuVqQahbtaglv3tfw9Iatghiqtdc/YLQ2wgNMHLgXcAfAnzKDkDn4dsjxh8ETM7zv9ZsCy2sFiAwwztJU3zOpX+iZkb8Hyp3DnE3B4wdsFXQchMQGJSYiMmBUyi1R/hRAPT8KX2GE5V+OLpTzpUpNn+0O8MNJFyOvAJjMcxb0MwwxGav2eluADWoP3tgTvbQ3qbfP9tlms4I2YA+IdXrMC5di6OX3g8JnPObfuHb67Xrf9va2qlc15f/tQUyHQB4Fec9xXae3rWyVlBsDNG5BfgJXP72lN9pqPvTGwOyWQCSH+ZBK+BGCe99q6zq2NChfnc1gtFg7G/UwNhPA65ddk3zAMMPS7Zgc+oD24/bymmmOyGsW7Klhb9427W4Nl8+tW1Xxvi2Vne9DmMKtT91atvGFwh837TiUrZFa8rLaHG49lc4AnZN7ih839UuuQX4T0DUhPmxWx/CIUlszj4vBCZBji42Z7Mjpq7pPLZ86ctLsfHPSEEOIeclYVgBm8ctUWMxtlbm9WmOwNMN6tEHA7sErVa3/YXqqhWYbGdivw3hmD2zMJtwJWq2KGsB1jt3Szvef0mW0/V8CsMrkDW4Hn3tZg0ByXZXOA5d4xW3fdW7bvrd9/wLFYzSpbZNisbA2+AM0KVDchM2MGss1Zc4xY6kszZLmDEB0xK2eJSegag1A/WB0SwIQQ30rClwDMsV5fLOW5lS5jtVg4lYwyGvNLu3GvMwxz3FS7vrP996DZgne3AtW77tWaWeHSNcxV4LbYnOCLbbUGfTtbfne3CJ2+u77e/t7dX3uejJmF2wHM4TGDoa5ttRi7zWB1b2uysgn5JSitw/pVc5ZkoPfrm9JrjkdzeMwAKYQQWyR8CTTdIF9r8dFchlSxQW/Qw7HBMH0R7+PeNfEghr7VGvyW2YJ627xpbbM61Sg9oDVY/HrGYGOrPahWzcB2b7XJ5gS3cn/Vavtrbxjc263CkBm09nrgsNrA5TdvkZGtyqAKxRXIzEJq2hywn5uD1Few+oV5nEIDEBuH2CHz5usyW6UOz1Z70iXjxITY5yR8CcqNNneyNa4uF3DZbZwajhBXXLjscoJ44hgGtFtbswa3g1TurtmCD5g1qNZBb90f1uzurVmDAXN2X2TYbA26Q/eEqrDZYrO7v541uCOcbbcHt5632OBpXIzXYjFbioED5vHqnTL/Hup5yNw2B+hv3oTcAuTmYfYds8IXHjKXr4hPmuPLIkNmxU8CmBD7loQvwWK2yqcLOfJVlVNJhTMjUYIeB9bH3QbaL3TNrKi06l+3+e5r/93z3I7W4dbz28sydFjMwOQO3NMavKcl+G2zBbefd7jNULXffycsFrNyZXcBATMMB7bai9FhM5BttybL61BOQS0DSxfMcWP+xM7W5HZ70umTdcSE2EceKny1Wi1qtRqFQgFVVbHZbPh8PhRFweu9v2WlaRrNZpN8Pk+z2cQwDKxWK8FgkEAggM1mw2KxYBgGmqZRKpUolUpomoZhGDgcDrq6unC73ei6Tj6fp1aroaoq1q1P2g6Hg3A4jMfjwW6XbPltDANUTWd2o8xnizncditjCYWjB4KyrtfDMoyda1NttwF3tAi3vm43zfBUz5vVrE5rsGAOam+WoFH+ukXYbpnb3zso3eEB512tQW/km9uEnpAZzPZ6a/Bxs2wF3GCfeQOzJVxOmdWvjWnzlpmF7FZ70mIxq2fR0a8rYkrCrDg63F8v6mq1Afs87ArxlHqodJJKpbh06RJvvfUW6XQaRVE4deoUL7/8MseOHbvv9bVajbm5Od58802WlpZotVp4vV5ee+01fv7znxMMBrHb7WiaRj6f57333uO9996jUCigaRo9PT38t//23xgfH6der/NP//RPXLlyhVQqhdvtxmq1Eo/H+Zu/+RsmJibo6up6mB/vqadqOuvFBjOpMsv5OqeSEca6FTxOm1S9HoahmzMAG4W7FhC9a9bgvY+bW8sw3Dt2y8CshrgC5pghZWvgtzt4z6zBrVDl8m8Fqm+YMXjvTEL5O/5hWKzmRARXwBz7NfZzc3xdYclsS6avQ/Y2LJ6H+X8zQ3Ow3wxjiUnzFh01K5ZywW8hnkq7/pdtGAbXrl3j/fffZ3BwkMOHD6NpGtevXycWi5FMJlEUZUf16datW1y4cAGAyclJAoEAhUKBTCbD+fPn+clPfkIoFKJYLPKv//qvrK6uMjIygqIoWCwW/H4/oVAIm82Gqqqk02msVitjY2Mkk0ncbjeKotDT04Pb7X74o/OUqzbbfLqQZX6zgtth5VQywkjMJ8HrQXQdtMbXrcF7ZwTuWFD0Qa3BrdZhu7m1mOhdswYdvq1B6tstvwe0B79ttuD28zannKyfFDbHVnD2g9cAvcesboUGIHEEyne1JktrZvhev2IO3l/+5Ot25N3tSdfWkhxCiD1vV/9T67pOo9Hg5s2b3Lhxg7/7u79jcnKSTCbD3//937O4uMjy8jIHDx7cEb5mZmb49NNPeemll3jhhRdIJpPcunWLd999l7NnzzI1NYXf7yebzfLee+8xOjrKn//5nzM2NobD4UBVVSwWCw7H12MjRkZGOH78OKdPnyYQCDz8Edkn2ppOttrio7ks6UqTgYiXZ/tD9IY8j3vXnhBb1yFUa1uzBcv3X2Nwe9Zgs7hzQdFmxRzkbrV+PVvQajMHa9tdD65adWYL3vXYpZgtKAnDe5vFYgYxf9y89TxjBvB6DgrLW63Ja+YaYqU1c10xwzCrZ+GkOWMyMWFWx3xR83die+bkk7BEhxDiT7ar8NVqtbhz5w6qqtLd3U0ikSAQCNBsNpmamqJer3Pt2jX6+vrweL4+mZdKJQqFAkNDQ8TjcVwuF6Ojo/zhD39genqaRqNBuVwmlUrRbDaJx+OMjY3hdruxWCzYbOb4FIv8Z/PQcjWV2+kKN9ZLRLxOXhztIup3Yn8aZ6nthr51/b/1L+HOx+YlZsprWzMH75o1iPH1WCt3wDxBugNmlcJ7T8DaXp3d5jBnDX7bgqLbswbld/3pZLGY7eOYx6yGDb9sBvfymhnC0tchcws2vjIrYXaPWTkLJ83K2fairv64DNQXYg/aVfhqt9tks1kMwyASieB2u7HZbDidTrq7u1lcXCSdTqOq6o7t3G43Ho+HdDpNsVhEURTW19dZX18nl8tRqVSw2WxkMhksFgvz8/O89dZbVKtVgsEgfX19HD16FL/f33nPhYUFNjc3mZ6epqenp/MaRVE6g/DvVa/XWVhYYH5+nrW1NQAuXrxIo9FA1/XdHJI9Z2GzwsX5LJVmm6mBECeHIvhdjv19rtfbZtUqv2iOydm+ldbM571b6zU5/fe3/L5rtqDTt1WtkDWexJbt5TkcW5OTdG1rodYD5kD8uxd1La2Z1dXMLbNatvq5+bpAz872pCditjqFEE+0Xbcdq9UqAH6/v1ORslqt+P1+LBYL1Wr1viDT3d3NwMAAc3Nz+P1+6vU6MzMzrK6udmZCFotF8vk8qqqysLBAPp+nWCzi9XoZGRkhEokwMDCA3W4nGo2ytrbGrVu3mJ+fJxQKdcaIDQ8PoyjKA/dfVVWWl5f54osvmJ6eBmB9fR2fz4dx98V9n0K6YdBUdWY2yny+lEdx2RlPKBzqUXDa9mEoMDRzcHyzYrYQi8uwfNFcMHNzFjDM5QESE3DgmHmZHF/X121Dd0AuJyO+H1bb19ebjI2bzzXL5szJ7VmT6a2LfRfvwPKn5geB8KBZBUtMmmuKKd1fLw9i92xdtmkf/tsW4gn2SEfnPvPMM1itVt5++21+85vfYLVa6enp6VS2tseH1et15ufneemll/jP//k/oygKH3zwAZcuXeLjjz/GMAySySRvvPEGr7/+Ona7HV3XOX/+PJcvX+bs2bO89NJLnDhx4oH74fP5OHPmDEePHqXRaADw5ptv8vnnn39jtexp0WrrLGarzG5UyFZbvHoozni3Gbz2ZTu3VYPiKty5YIau1FdmCHMFzGv2DZ6B7mfMBUjvHtQurUHxKDi95vUifTEYOGV+SKhlzEVd01uLuhaWzMsb3fgX8EbNJS8SE2Z7MnbIfGx3y++pEE+QXYUvq9WKz+cDoFKpoGkaYFbEKpUKhmHg8/nuCzLRaJQjR47QarXIZDK0221CoRCVSoXZ2VncbjdOpxNFUQgEAhw4cIBDhw7h8XhYW1tjZWWF5eVlRkZGGB8f71TAHA4Huq6Ty+XIZrMsLS2xsbHxjftvs9kIBAI7BuhHIpHOOmNPs0qzzSfzWRYzVQJuOyeGwgxFfU/9z71Ds7x1weTbkL1l3ufnzRObKwg9z5qXk+k6aE75D/SaVS4hHjWLDew2MzwRAr++NROyx/zd7Hve/PCwPXuyloPSKlTS5gcJpef+WZO+mDnebD/9mxfiCbOr8LXd8gPI5XI0Gg00TaPVapFKpTAMg3g8vmNW4vZ28XicN954A4vF0lkuYmZmho2NDTweD36/n0QiQSwWIxwOd0JcMBgkFouxtrZGvV7HYrHgcrmwWCydwfjRaJTe3l5mZ2ep1WoPf3SeMq22zma5ycdzWfK1FsNdPiYPBEkE9sH09f/f3p08x3Vdhx//9vR67kaPmCdiEgiKFCmSokjJkiVZtuOKh3iRRB5ScYYq/wHZpVKpyjKLrFLlSkp2FnFSdvyznVQka7Y1kCIliqRMkQRAAsRAzEA3eh5fv9/idjcJklJEkMTE86lCgQAbwLs9vD7v3nvO0Ytqs3whrZYWFy/B5HG1uTm9qPbJRB6CtkPQdUzNdLlCm33UQqxlMl/vTBDoUt8r5SG7ojbpL16EhYvqomLxEsyeU7O1/lYI9anZ3HCfmg2rNTW3OcBir7aEkoBMiI2wruBL0zTa29vRNI35+XkWFxeJRCKkUinOnj1LX18fQ0NDazIdQWVJ1gqrWiwWkskkb775Jvl8nsOHD+N2uwkGg7S2tqLrOul0mnQ6jcfjYXFxkYmJCaLRKD6fj0qlQjKZxG6343K5MAyDmZkZhoeHaWhokLITt7GYynNxNsnYUobWgJMn+yM0OG2YzTv8hGsYkJyD+U9UYcuF87A6pTbYB7qg+0noeFxlknkiah+N1b7ZRy3E52PVVNajw6vKWBSzqsDvyrhallwaVkkko6/AlTfUPkVPkwrEmqr9JgO71PN+p58LhNgi1r3s6HQ6GRgYYGpqitdee4333nsPXdex2Wx0dnYSDAY5e/YsmqYRDodpbm4mFotx5coVRkZGyOVylEol5ufn6e7uZv/+/Xi93noLoaNHj5JIJHjxxRex2+3Mzc0Bat9Ye3t7vRBrPB6vH9f8/Hw9kOvp6bk399AOYRgwtpjh5NUVSnqFXWE3BzoCuO3WHXitW63RlV5Q+2Fqy4uxq2qJxmKFpofVsk2oV80EBHdVm0dL0CW2GZMZLObr3RAMQ830ehoh2K2W0ZMz1aKus5BeUsHZ9ElVU6zWb9LbAv7qZ2+jWmqXFkdC3Bfr3nBvNpvZs2cPhUKB//7v/663Fzp8+DBDQ0O43W4mJiawWCxUKhUikQi5XI6ZmRneeecdVlZWcDqd9PT00N/fz8GDB7FarZhMJvx+P8899xxvvPEG7777LgCRSITdu3ezb98+mpubmZub48KFC4yNjZHL5QAIh8MMDg5y5MgRWlpa7s09tANUKgbZos7IQopzU6sE3DYGmrz0Rj07aNbLUG19Snm1pyu3qpZgZj5SG+kzy+pmniZoOwAdR6H1UVW00qJt7qELcS/Vmn/X9ni1Hqi2u0qoHpO1pcmlYYhPqq9BvTaCu9Rm/XC/mhW2e2/InJTm6kLcK3eV7djc3MwzzzzD/v37KZfLaxpra5rGV77yFUwmE5qm4XQ6aWtrIxAIcOTIEcrlMmazGbvdjs/nqwdeoOqB9ff309zczLe+9S11oFYrDoeDYDCIyWQiGo3ywx/+sN6g2zAMrFYrTqeTQCAgTbVvkC/rDC+kuLyQIlvUeW63ynA0m00755rWqKjWPwufwNRJmDyhlhaLKfUG0v4YtB9WswCeRrX0YnNJOx7xYDBbVQmL5r0qsOp7Xu1/XJ2sFnW9pBp/T55Qmb82l6prF31ILU/Wiro6/FLUVYh74K7eeTRNQ9M0Ghoabvv/wWBwzdd2ux273X7L929mNptxuVy4XC4aGxtvexubzUZra+v6DvwBYhiQypd5f2yZ6XiWkEfjQEeA9oBr+wdeFV31TVydUm8cy5dVUdTVKdUrz98CDZ3V5cU+CPWomQBJuxcPGpNJdVTQPOqjtjTviVb7TQ5Vi7nOqP2R6XlVcmXu92q5fvqDtRmTvhZVT8wVVjPH8noS4o7IZf8OVyjrLCTznBqPkcqXGWz2MdDoI+zZpnubjIpaQilm1L6VxDWYOaPeHBYvQqWk9qpEh6DjiJrtCu5SWV1CiCqT2s/lDquPxqHq7HEGYuNqJmzhgnpNpebVRY1eVrcNdKrM4OgghHaBI1Dt5nBjv8mdXS9RiLslwdcON7ua49z0KtPxLP2NXp7qj+BzbuM2QnpJzWxd+xAm34f5j1VtI5NZLYu0H4LWg+oNwtmg2vvIJnoh/m8mswqiwn2qsGv3k9UixNfUzPLihWq/yQswe1ZlWToD10tYNA6pz66Q2iMmhPhUEnztYBXD4MpimlPjMUwmEz0RN3tb/bg0y2Yf2udnGKAX1NV37OoNRVGvqkKpVqea4Qr1QriavdjQqbK+zNtonEJsBSZLdYO9C5yo1587ooKxSP/aXpOpOVVtv9b/dPbM9azJm4u62pwyGybEDST42qH0ikEqX2JkIcUnswma/Q76G710hFxbv5q9Yaiei8Xs9Wr08+fVbNfsOcitqJO5v10FXh2Pq9IREnAJcW+ZTNf7TYZ61WuznFclW5aH1SzY/AVVuHh1SiW7OBpUUdfwQDVzsq/alN6jLpZsDtUPVV6r4gEmwdcOlS3qfHwtweh8mnLF4Im+MANN3q0feIEKvLJxtbQx9T7MnFYn+0oZnEEY+Cq0HlK961yB6+nwO7wvpxCbrlbGoqFdFSRuPag6R6TnVSHXhQuqIX0ti3LkJXVRFOhSe8Qah9R+TF+T+r4QDygJvnagimGQyJU4cWWZuUSOFr+DfW0NtDRs4U3negkKyerS4pXrmYvpBVW7KzKgKtCHq5mLgS6VbWW2SqaVEBvJZFYBmNWuSk+ACsR8bSq5pXV27fJkZlEFZ9mYmsGu9ab0tV5fmvQ0qosomQ0TDwgJvnagXFFnLpHj9GScYrnCgY4GdoXdBFxbrJhoRVeVuItpyKyoq+Wpk2rvyMqYCqp8LdDyiNr82/yICrqkB50QW0uthEVDu/paL6lK+sujaqP+wifqwmppBObOqZlqTxRC/WppMjKg9orZvWpZ0uZUJSykDp/YoeSZvQNNxbKcnogxn8zzSFsDTw9E8acIthgAACAASURBVDm3YGHEYlpV2J48fr1URD6hlhZbH4XOoyp7KtB509KiBF5CbGlmq5oNc3hVcDX4h2pzfuJatbr+iCppMfYGjL2pXt++FhWENe5Rr/uGDpU5KTPbYgeS4GsHMQzQjQqXF1N8OBHHabPQF/Uw2OzDYdsi0/n5hFpKrPVbXL4C8XG1tOiOqLpctaKo4d5qNXr/Zh+1EOJOmEyqEr7FpgIrUDNdvjbwd6hK+zcuTaYX1baDmTMqMPOeAF91abK2ROltqvablK0GYvuT4GsH0SsVYtkiI/MpRuaTDDT56G/y0uTfzJo7BpSLUKpmLtZ6yU0eV4FXNqZa/TQOqcCr85ia6ZKAS4idxeoAj0MFYTyith3kkxAbUxv1Fz5Rez1Xp1QAZrGqzMlQL0QGVaujhuq5QXOp32fR1O1MMiMuthcJvnaQTFHn9ESc0YU0ZpOJL/SrDMfNU21hkrim9nlMvKcqZydn1PdDvdD/ZVUuoqFTNbnWPNLoWogHgdmsLryigxDsht5nVdeK1II6TywNq2Bs+gO1F7TWbzLcV90nNljNumwEzalqlAmxTUjwtUOUKwbxbJETYyuspAt0htwMtfiJeje4urthqJIQqWrq+Y1FUVNz6mq15UB1abFXnUiD3SrtXBr2CvEAqbY40tzqA1Qg5WtT+7+igzctTS5ALgZLl9T55NoHan+ow3/9w+5XAZ3Dd/1ru0eKvIotR4KvHSJTKDMdy3J2Ko7NYuaR9gY6gi68jo0IaKozXLWlxWxcLSHMfAjTp9UJ02xVja5bD0LHUWjZr2p0STaTEKLGYrte1DU6qPpNlnLqQm5xWGVOLg6rrxPTUC4ARrUif1Bt0HeH1dKmp0ntG3NH1F4xq139frNt7WeLTQVmEpyJDSTvfDvE1eUMJ8djrKSLHO0J8dRABI99gx7eSkVtlp0/r4qiTp1UJ8ZSDpwh2PU0tB1SVejdEbUBV3PJMoEQ4rOZzGrWKrhLzYZ1Pq6ypLMxNfuVnFWz7JklyNSyKT9RhZrNVhVgWe1qZs3TqDbte5urgdkN/3b4pAes2FASfG1zhmFQLBtcXkhxdipOwG2jr9FLT8SD/X5mOFZ0FXCtTl1fWly5AqvTqhdjoHttUdRgtzrxWeySqSSE+PxqAZjNqWawKno1a7IVcqsqgzqfhEL1cz6hPgrJ6vdTalY+F1NB29IwWBxqObK+ZOm7Ycnyxq+r/9bcKpCTc5e4RyT42uZKusFiKs/IfIrxpQyHu4MMNHkJuu/DpnWjoqb5Sxl10otPqdY/0x+oYopGBVxBaNqnrlDbDqkNsdbNzLYUQuwoZouaOddcqr/rjWp7TnNxVVk/Oa9mxtJzaiN/ak59PzsL8QJUSqogrEVTAZYrrBJ/3JEbZska1VKm5q5mV960ZGm2VWfZJONSfH4SfG1zmUKZk+MrjC6m0WxmnuwP09/ouT9/rFxQhRFr2UeLF9RJzmxThRHbD0PrAfC3qRRxzSWZi0KIjWMyqUDIFVTbGxo6VHCll1RQppdUY/B8EjILKjhLz6s6Y5llVQh2/oJa2jSb1e+y2NQFpDME3ka1TOltuh6ceZtUsKa5pT2S+Nwk+NrGinqF5XSB98dXSOZK9Ec99Dd6Cbrv0d4Fw1AnquSsqsWzfFm1/VmdUO2A7D4VdNWyFkM96mRnk5OQEGKTmExgslaTeW7Tz7Y2g19IffqS5Zply+rSZaWktlWsTquAzOa8/RLlmuXL2rJlbZ+rbOoXigRf21gyV+LqSobzMwkanDYOdgZp8TtxaXcR+NSm7UtZdeJJL8Dcxyqte+736kSkVa8oO4+qGl2Ne6TOjhBie7hxD5kneuv/VyrqojOzVF2yrC5dpubVsmV6Qe0dS81VZ9RKKqCzOlWWpiukli/rG/yb1N9xBqsZl9WlS4t1beal2SLB2QNEgq9tbGwxzfErKyRyJQ52BvhCfwSP4y4f0koZsitqL9fk+zDzkTrpgNr30POM6rsY3a1ONLVGuHLSEELsBGaTOqf5mtU5Tx+4vjesUgK9XM24jK8NzGoZl+l5tam/oqvzosWmEo009/USGN6bP5rVLJntNjN1YkeS4GsbqhgGuaLO6EKa89cSNPkc9Dd6aQ860SzrCILKBTXNHhtXGYvLl9XnzLIKxpoeVtmKtX6LDZ3qqk42mAohdhxTtTel9ul7VvWSKqVTX568cfnyhiXMG5cui1n1vdyqSlCyauri1X5zhqXv9lmYmveGVkpiu7ur4KtYLJLNZlldXaVUKmGxWHC73Xi9Xlwu1y2313WdQqFAPB6nUChgGAZmsxm/34/P58NisWAymTAMA13XSSaTJJNJdF3HMAxsNhvhcBiHw4HZbKZcLpNIJEgmk1QqFSwWC06nk2AwiM1mw7RD04JL5QqzqzlGF1LMxHM8Mxilv9F7ZwVVK2XVc7GYVldssaswdQJmP1b1c8xW1WOx8QB0PaGWFhs6JNVaCCFqmY4O323+s1p0Ohe/vnSZujHrsrrBP72gSvXUZtTM1moLpWqhWHfk+tKlp7p0qbnV0uWabEvr9aVLk1nO0dvEXQVf8/PznDlzhl//+tcsLi7i9Xp57LHHePrppzlw4MAtt89ms4yNjfGzn/2MyclJisUiLpeL559/nq9+9av4/X6sViu6rhOPx3n99dd5/fXXWV1dRdd1mpub+au/+isGBgZwOBzEYjFefvllfvOb35DNZgkGg+zZs4cXXniBlpaWHRt8pQpl3ruywpXFNB6HlSf7wvRG7zDDMZ9UM12Tx+Hah6qXWiGtXuBdx1QV+uigSuWut+fYmfenEELcOya1KuBsUL1q/W03LFlWP5cLkE+pshf1wGyxWgZjRVXxL3xYnYGzgllTM2XOkDpHr8m2bFSf3dFqb1xZ0NoO1v0oGYbBJ598wttvv01nZyeDg4Pous7FixeJRCJ0d3fj9XqxWq//icuXL3PixAkAhoaG8Pl8rK6usry8zHvvvcdTTz1FQ0MDiUSCV199lZmZGXp6evB6vZhMJjweDw0NDVgsFtLpNO+++y6zs7N0dnbS2NjIysoKc3NznD9/HoC2tra7vHu2nnxJZyGZ58OJGPmSzlCLj10RDw2uz1HSIRdXmYsrV1RR1NgViE2AXlQniMAutawY7lMZjLVq9EIIIe5AteSF2Qrcps6hUamuPKSqS5S3WbK8cUmzlnGpl6/3uqyVwLixj6XDqz47/bcpGuutZqLLdpGtYF3BV6VSIZ/PMzw8zKVLl/jbv/1bhoaGWF5e5h/+4R+YmJhgenqavr6+NcHXyMgIH3zwAV/4whc4evQo3d3dXL58mddee4033niD/fv34/F4WFlZ4fXXX6e3t5c//MM/pL+/H5vNRqlUwmQyYbPZWFpa4s0336SpqYmvf/3r7N+/n5MnT/Lb3/6Wc+fO4fP5dmTwFc8WGVtMc2kuSUuDk8PdQSJeO3brbfYBGIaqNl+s9lyMjcP879VG+vhV9YJ2BNSero7H1GyXv1UCLiGEuJ9MZrWp3+ZQF7k3qwVntQ38t2RdzqsZstTc9SQAo6L2qDn8atnSFb4+S+ZpVDNkzpD6mzcXi61/lozLjbKu4KtYLDI1NUWpVKKpqYnGxkZ8Ph+FQoH9+/eTy+X45JNPaGtrw+m8nr2RTCZZXV2lq6uLaDSK3W6nt7eXl19+mQsXLpDP50mlUszPz1MoFIhGo/T39+NwODCZTFgsqpSByWSiUChw5coV2tvb2bt3L06nk66uLoaGhvjtb39LT0/PvbmHtpjLC2nevbxMtlimL+rmWE/o9j0cDUNl28QmYPYsTLyrNnmmFtRUdrgf2h5VhVH97SoN2u5RL0AhhBCbx2RWy4zeqCoYG+5bu3Spl6qdRhI3LFtWly6zyyowW76s9vaazNeXLjWXWp68OdvSUy0W62xQ+85ki8l9t67gq1wus7KygmEYBINBHA4HFosFTdNoampiYmKCxcVFSqXSmp9zOBw4nU4WFxdJJBJ4vV7m5uaYm5sjFouRTqexWCwsLy9jMpkYHx/n17/+NZlMBr/fT1tbGw8//DB2u51cLke5XMZut+P1eusb9yORCPF4nFQq9anHn8vluHr1KuPj48zOzgJw6tQp8vk8lUplPXfJfadXDNL5MiMLKS7NJekIuuhv9NLkd2KzVF8ohqGWEFNzagN9LWsxflW9KDW3muEK9lxfWgx0qpkus+wTEEKILcNk/r8zLmvV+gu3WaqsZ2DekI1Zyqokq5UrqnC22aYuumtLlPabMi1vzri0+9QFusyO3bV1LztmMhkAPB5PfUbKbDbj8XgwmUxkMplbApmmpiY6OjoYGxvD4/GQy+UYGRlhZmamngmZSCSIx+OUSiWuXr1KPB4nkUjgcrno6ekhGAwSDocpFArYbDZsNhtms3oi2O12nE4nuVyOQqHwqcdfKpWYnp7mo48+4sKFCwDMzc3hdrsxDGM9d8l9VyxXmFjJMLqQYild4Ov7Wuhv9OLUzGqGq5hVGzizy6oY6rUPVY2uQlJlxzR0QNth6HgcmveqF5NZXkBCCLEt1bId7V6g9ab/rGZc5pMq4zJdLRB78yxZZgkS09dn1UwWlVxVy7h0hde2VPI0qk39NvutS5a1zEuTRWbOPocNne7Yu3cvZrOZl156if/4j//AbDbT3Nxcn9mq7Q/L5XKMj4/zhS98gRdeeAGv18s777zDmTNneP/999m7d+9dHYfb7ebxxx/n4YcfJp/PA/Czn/2M06dP1wO5rSZVKPHO5SWuLmUIuDSO9oTpiXhU4JWLqxIRU++rvovJGbXXy9MInV9WDa6ju6vNYT1qWtksLw4hhNiZqhmXDq/qPuJrhsrDa5cuywU1C5ZeumFf2UI14zKmkrIKZ9Svq5WzsGjgDKilS99NS5beZrV/zeGXjMvPYV33kNlsxu12A5BOp9F1HVAzYul0GsMwcLvdtwQyoVCIPXv2UCwWWV5eplwu09DQQDqdZnR0FIfDgaZpeL1efD4fra2tPPTQQzidTmZnZ7l27RrT09N0dHQQDocplUqUSiUqlQpms5lCoUAul8PpdGK3f3p/Q4vFgs/nw+e7XqMlGAzW64xtNZlCmWvxHGcm4+iGwb5WD52OLN6VSYhXey7GxiAxo4KxSP/1zMVQnyqQ6olKk2shhHhg3JBxab1dxmV1m0ogfUNR2MT17MvbZVzmkypwyyyoj4ULqnr/ZxaJ9a39d70B+dZ7r91I6wq+rFYroVAIgFgsRj6fR9d1isUi8/PzGIZBNBrFZrPd8nPRaJQ/+IM/wGQyUSqVWFxcZGRkhIWFBZxOJx6Ph8bGRiKRCIFAoB7E1fZzzc7OUi6XcTqdWK1WCoUCqVQKj8dDIpFgaWmJQCCA17tzMvaW0wVG5xLMLMbo9sPRhiLB1RmsK+fU8mJsXE3zuiPQul9lLbY9Cr4WCbiEEELcymRSW1KsdrXMeLNacJaNqRmx2rLlmpZKy+r/YtXZNKOigr01PS5rxWKb1Wd3WC1tWrTrM2o2p+qN+QCVwVhX8KVpGu3t7Wiaxvz8PIuLi0QiEVKpFGfPnqWvr4+hoaE1mY6gsiRrhVUtFgvJZJI333yTfD7P4cOHcbvdBINBWltb0XWddDpNOp3G4/GwuLjIxMQE0WgUn89Xz5QsFov8/ve/Z//+/UxMTHDhwgW6u7tpaWm5J3fQVjA6n+LD0Rna9SmeLFzliZlJPCPjUEqrq47WR6H9MRV41XqEaW61Fi+EEELcqVqLJXdY1Q0Ldl8va1FbvixVWyalFm7YS7YAmRWVcRm7qm5r4vreMJtLTRTcuJes6WFoHFLbYsyWzR75hlj3sqPT6WRgYICpqSlee+013nvvPXRdx2az0dnZSTAY5OzZs2iaRjgcprm5mVgsxpUrVxgZGSGXy1EqlZifn6e7u5v9+/fj9XrrLYSOHj1KIpHgxRdfxG63Mzc3B6h9Y+3t7bjdbp555hlGRkb4n//5H06dOsXy8jL5fJ5jx47R1dV1T++oDWdU0ItZsouTeCfP8MjCWfzlSR4qrhLIlzB7I9BwUGUshvsg1KMKpdpckokihBDi7plM1zfT3+5avlJWe8cCyRuWLG/qd3nzcmYpo/pixsZVcFbLtA/1qkmDB8S6d8WZzWb27NlDoVDgv//7v+vthQ4fPszQ0BBut5uJiQksFguVSoVIJEIul2NmZoZ33nmHlZUVnE4nPT099Pf3c/DgQaxWKyaTCb/fz3PPPccbb7zBu+++C0AkEmH37t3s27eP5uZmdF3nySefJJVK8fHHH3Px4sV6e6GHH36Y5ubme3YnbRijop7MxQzkkxiJWfKXT9E0dYKmzCc0uww0TxBToBs6j6oaXZHdqmieBFxCCCE2ktkKmrUaNN3mPdcwVMCVXb6pv2VtGXMBcivqPe8Bc1cpCc3NzTzzzDPs37+fcrm8prG2pml85StfwWQyoWkaTqeTtrY2AoEAR44coVwuYzabsdvt+Hy+euAFqh5Yf38/zc3NfOtb31IHarXicDgIBoOYTKb6vrOvf/3rPP3007c01t6qWYufSS+p9N9rH8Dk+1hmzxJILmDkK2RcYcpDT2HtOowlOljtcu+RwEsIIcTWZDJVewM71DKjvvumYrFFKGSqS5sBVabiAXFXwZemaWiaRkNDw23/PxgMrvnabrdjt9tv+f7NzGYzLpcLl8tFY2Pjp96utkQZDofv/OC3ilJelYqIVbMWVy7Dyhjl9DLxTJGz6XaKvi6CHbsJ9h3E1FTNXJSASwghxFZntlT3cd2mAoFhVOuLmR+4Qt8P1mi3ikpZVSYupNXmxJUxmDyh+i6uToHVTszWwgVtgF/TRTTyCEcf2oupLYTZKZvohRBC7AC1Tf0PIAm+NkM2pma4Jt6DmTOq52Ixq0pD9D6H0fk4p+d8/GrMYFIzM9jYxqOdAVy36+EohBBCiG1F3s03gmGogCt5TfXUWq721YpPqE32ge5qv8VeioFelmytXLyWZayQpLfVw67GAA0uDbNUpRdCCCG2PQm+7qdyvp65yMoVmDsHk++rXlqlLDiD0LxP9VvsOALeZvK6jQtXV7iymqGkVzjUHaSv0YNFAi8hhBBiR5Dg636KT6pei1ffUcuMmWXV8yoyqPotth1SS43OQLUoqpVkpsDvRpa4Fs/S7HfyaEeAtoBrs0cihBBCiHtEgq/7KV3tfbU6pcpCRB5SxVBDfaqgXEPHDX2uIJYpcGUxzfBcEqfNwqGuIE1+Bw6bZDYKIYQQO4UEX/dTRVfZHIFOFXh1PK5aKNg9ty0VcS2e49zUKgvJAoe6ghztCeFz2jBvwWbfQgghhFgfCb7up5ZHoKFTBWA2F9jdqnnobQKvimEwMp/ivbFl7FYz/U0eHm7147Q9OEXnhBBCiAeBBF/3k90HmlctK37G7FWhXGEmnmV0IcVSqsAj7Q0MNHrxOmyf9WNCCCGE2IYk+LqfPmd39myxzLnpVcaWMphNJo7sCtET9UjgJYQQQuxAspN7k1UMg9VsibdHl1hI5ukMuXi41U+zz7HZhyaEEEKI+0CCr022lCowPJfkymIan8PGY90hol4HmlX2egkhhBA7kQRfm8gwYCqW5aOpOPFsic6Qi6M9ITwOqyw5CiGEEDuUBF+bxDCgXKkwMp/i5HgMn9NGX6OXvqhH6noJIYQQO5i8y2+SfFnn8kKKkfkUiWyJAx0NDDR5cdmtUtdLCCGE2MEk+NoEhgGZQpnTE3GuLmdw2Mwc6Q7SE3Fv9qEJIYQQ4j6T4GsT6IZBPFPi3SvLxLJF+qIeBpq8hNz2zT40IYQQQtxnEnxtgvlEjvMzq0ysZAi5NR7vCRP22NGs8nAIIYQQO52822+wimFwdTnDhxMxMgWdXWEPR3aFcNul3q0QQgjxIJDgawNVDINCSWU4np6M0+iz09/kpT3olFkvIYQQ4gEh7/gbKF/SuTiXZGQhRbagc7AryECjB4fNIhmOQgghxANCgq8NYhgGyXyZU+MrTK5k8TltPNYdpDssGY5CCCHEg0SCrw1S1A2WUwVOjK2QLZTZ0+JjV9iN36Vt9qEJIYQQYgPd1S7vWCzG1NQU586dI5VKYbfb2bVrF/39/XR0dNxy+3w+z9LSEqdPn2ZlZQVd17HZbAwNDTE0NITL5cJsNrO0tMQvfvELstksbreaGXI4HESjUY4dO4bf7yeVSvHBBx8wPT1NMpnEZrNhMpnwer0cPnyY5uZmPB7P3QzvnpqJZzk3vcq1eJaeiIejvWGCbg2rWZYbhRBCiAfJXQVfk5OTvP322xw/fpxkMonT6aS7uxtd12lqaqoHRDUrKyucP3+eV155haWlJQAsFgupVAqv10t3dzdOp5OlpSV+9KMfoes6AwMDAHg8Hvr7+9m/fz9+v59kMslbb73Fxx9/TCKRIBAIYLPZiEajtLe3EwgEtkTwZQCVisHYUoZT4yuUdIOeqIdDXQFckuEohBBCPHDW/e5fqVQ4c+YM77zzDn/8x3/Mrl27SCaT/Ou//isXLlxg9+7dNDY2omnXl9U+/vhj3nzzTXp7e/nmN79Je3s74+PjXLlyhZdeeonvfe97OJ1OTCYTNpuNL33pS/zwhz8EVJBmt9sJh8NrjmPv3r0MDAzwyCOP4PF4sNlsBAIBnE7neod2T1UqBplimZH5FOdnknSGXAw0eYn6HNjMsuorhBBCPGjWFXyVSiWWl5eJx+OYzWYGBgbo7+9neXmZjo4OcrkcIyMj+P3+NcHX4uIi09PTPP744+zevZvm5mYaGhoYHh7mzJkzfPvb367f1mQyEQwG6enp+cxj8Xg8NDc3093djc/nW89w7qtcSef30wlGF1KU9AqHu4P0R71oFgm8hBBCiAfRuoOv2dlZSqUS0WiUYDCIy+XC5XIxODjI/Pw8V65cYd++fWt+rlAokM/n8fl8uFwurFYrDQ0NZDIZrly5QjabpVKpACo7MBaLMT4+DoDL5cLr9eJ0OjHfMGOUyWSYn5/n6tWrBAIBXC4Xfr8fq9W6ZsnzRrquk8lkSKfT5PN5QO1f03UdwzDWc5fcVsUwSORKnBhf5lo8S8ijcbgrSGfIdc/+hhBCCCG2l3UFX7quk0gkMJlMNDQ0YLFY1C+rBlPz8/MkEgl0XV/zcw0NDQQCAYaHh4lEIrhcLs6fP8/ExAS5XI50Ok2xWMQwDEqlEq+99hrT09OYzWYeffRRnnzySfbs2VPfhA/wySefcOLECbxeL52dnezbt4+vfe1rRKPR+nHdLJPJ8P7773Py5EkuXLgAwNzcHG63ux783Qv5ks58IscHV2OUKwYHOgK0BVxSzV4IIYR4gK0rCjAMg3K5rH7BTTNMta/L5fIts0gDAwPE43EmJyd5+eWXOXnyJIVCgdXV1fpeL8MwCIVCfO9736NUKtHQ0EAul2N5eZmXX34Zv99PZ2cnbrebI0eO0NXVVZ+9WlpaYnR0lFAoxCOPPEJ3d/dtj99ms9He3k6pVKK5uRmAkydPsry8/KmzZesxFcvy0WSchWSePS1+jvaEaHDZsEiGoxBCCPHAWlfwZTKZsFrVj94cZNW+vt2yX19fH5qm8ctf/pKxsTEuXbpEd3c3ZrMZj8eDpmmYzWZCoRB//ud/jsPhQNM0VlZW+MlPfsLvfvc7Hn/8cYLBIKFQiCeeeAJN03A6nei6zmuvvcYbb7zByZMn69mTt+N0Otm9eze7d++uf88wDN588801S5p3az6RZ2Q+hc1ipr/Ry4HOAC5NZr2EEEKIB9m6IgGLxYLf78cwDFZXV+vLi+VymdXVVQD8fv8ty361UhR/8Rd/QaFQQNd1TCYTP/nJTzh+/Hg92Kr9vNlsxmQyEQqF6O7uZnx8nOXlZVZXV4lEIvh8PkwmU/12u3btYt++fbz33nvE4/G7uV/uCZdmpS3gwqVZGWrx0eDUZNZLCCGEeMCtK/iy2Wy0tLRgtVpZXFwkFosRDofJZrNcunQJv99Pb28vdrt9zc/Vgq3afqx0Os25c+ew2WwMDg7idrvRdZ1yuVyfWTMMA13XSafTpFIpHA4HdrsdwzAoFApYrVY0TcNkMpHJZIjH49jt9jVZlpulLeDkib4wJb1CW8CF1SKBlxBCCPGgW1fwZbVaiUajBAIBdF1ndHSUUqlEIpFgcnKSw4cP09PTQzabRdf1+tJgNpslHo9TKpUwDINEIsF7772HxWLh6NGjeDwe8vk8iUSCTCZT/3uZTIa5uTl0XScajeLz+SgUCvVMSIfDAcDw8DDT09O0tbURiUTuwd1zd1oanLQ0bI16Y0IIIYTYGta958tsNnPgwAGSySQ///nP6xXuu7q6GBoawul08uabb2K1Wunu7mZoaIjFxUVOnTrFK6+8QiwWQ9M0QqEQzz77LM8++yxer5elpSXOnz/PL37xC1ZWVgA1Y9be3s6Xv/xlent78Xq9LCws8NOf/pTx8XEKhQIAdrudjo4Onn32Wfr7++/dvSSEEEIIcY+se/e3yWSiq6uLL37xiwQCgfqSYFdXFwMDA3i9Xvr6+jCbzYTD4XoZioGBAYrFIplMBpvNRiQSYffu3YTD4frG+46ODp566inS6XT977W1tdHb20swGMRqtdazHXt6eigWi8D1gqs9PT14vd67v3eEEEIIIe6xu0q9CwaDBINB9u/ff9v/P3z48JqvI5EIkUiEQ4cOferv9Pl8t2Qi3k5DQwPf+MY37vyghRBCCCE2kfS4EUIIIYTYQBJ8CSGEEEJsIAm+hBBCCCE2kARfQgghhBAbSIIvIYQQQogNJMGXEEIIIcQGkuBLCCGEEGIDSfAlhBBCCLGB7qrI6k5SqVTIZrNMT0/f099rGAaVSqXekmknkjHuDDLGnUHGuDPIGO/e9PQ0uVwOXdfv+e++WxJ8VWWzWYaHh/nHf/xHXC7XPfu9lUql3kqp1gB8p5Ex7gwyxp1Bxrgz8l8ueAAAEgFJREFUyBjvXi6X49KlSzz99NP3/HffLQm+qo4cOQKAy+XCYrHcs9+7srLCyy+/TF9fX/1v7DQyxp1BxrgzyBh3Bhnj3dN1naeffnpL3n8SfFUdO3aMY8eO3fPfOz4+ztmzZzly5Ah//dd/fc9//1YgY9wZZIw7g4xxZ5Ax7mw7cyFZCCGEEGKLkuBLCCGEEGIDSfB1n1ksFvx+P06nc7MP5b6RMe4MMsadQca4M8gYdzbL3//93//9Zh/ETlYul8lkMvT29tLR0bHZh3NfyBh3BhnjziBj3BlkjDubBF/3mclkwuPx0NLSgtfr3ezDuS9kjDuDjHFnkDHuDDLGnc1kGIax2QchhBBCCPGgkD1fQgghhBAbSIIvIYQQQogNJEVW70KlUiGfz5NMJkmlUgA4HA48Hg8+n++2lfINwyCZTJJIJCgWi5hMJjRNIxQKYbfb72l1/XvhTseo6zrZbJZEIkEmk8FisWAymbBYLHg8Hjwez5ZqlZFKpVhdXSWfzwNgt9tpampC07RP/Zlyuczq6iqZTKb+GPp8Pvx+P5qmYTKZNurwP5c7HWOpVCKTybCysoKu6/XH2G6343K58Pl8WK1b69RRqVQoFAqsrKxQLBapVCoAOJ1O3G43Xq/3U19b6XSaRCJBPp/HMAxsNhvBYBCn07mlxrmeMdZ+Jh6Pk0wmsVqt9T56LpcLj8eD2+3ejOHclmEYFItFlpaWKBQK9e/Z7XbcbvenPve203l1PWPcbufVmxWLRRYWFiiXyzgcDsLhMDab7ZbbbafH8W5tnTPLNpTP5xkeHua1117j3XffpVKpsHv3bo4ePcozzzxDIBBYc3vDMCiXy5w4cYKXXnqJa9euYTKZ6Ozs5Pvf/z59fX1bbtPhnY4xm83y4Ycf8sorr/DBBx/g9/uxWq34/X6eeOIJjhw5wu7duzdpNLf68MMP+d///V8uXrxIpVJhYGCAv/mbv/nMzJt4PM6vf/1rPvroI6amptA0jeeee46vfvWrtLW1YbfbN3AE/7c7HePi4iIfffQRP/7xj8lkMvh8PgB27drFwYMH+dKXvkQwGNzIIfyfstksY2Nj/Od//icTExNks1lMJlP9ufrkk0/S0NBwy88ZhsHZs2d59dVXuXTpEsVikdbWVv7kT/6EoaEhIpHIJozm9tYzxkKhwNjYGP/v//0/Xn/9dYLBIDabDbfbzd69e3n66ac5ePDgJo3oVpVKhZmZGf75n/+ZqakpdF1H13V6eno4dOgQX/7yl2957m238+p6xrjdzqs3MgyDubk5/umf/ol4PE5vby9/+Zd/SXNz8y23206P492S4GudDMNgdXWVV155hWQyydGjR3E4HMzPz/P+++/T399fnymoyefzjI6OMjY2Rrlc5ujRo+RyObLZLCdOnADgwIEDmzWkW6xnjLquk0wmKRaL+P1+jh49Wq/j0tvbe0uwttncbjetra3YbDaGh4eZnp6mWCx+6u1XVlYYHR3l4sWL+P1+nnvuORKJBEtLS7z++ut8+9vf3lJv2HDnY6zNfGWzWTo6Ojh06BAAkUiEzs7OLRdcgnquWq1WOjs7iUajaJpGuVxmZmaGt99+m66uLjRNW/NcLRaLzM3NMTw8zMLCAocOHaJSqZDNZnn77bcxmUw89dRTmziqtdYzxkqlUj/HWCwWjhw5QjAYxG6309rauuWeq7Xst0cffZSenh5MJhO6rjM9Pc2HH35If38/Vqu1fkEA2++8up4xbrfz6o2uXbvG2bNnWVpaIhaL4Xa7KZVKt9xuuz2Od0uCr3UqlUosLy9z/Phxjh07xg9+8AP8fj8//elPefXVVxkfHycQCKw5EWYyGU6fPs3y8jIDAwO88MILJJNJTp06xWuvvUYwGNxST671jLEmGo0SiUT4/ve/f8sVzlbS3t7O008/jcVi4Ve/+hUff/zxZ95+bm6OixcvkslkOHbsGF/72teYmpri5z//OW+99RbPPPMMoVAIs3nrbKe80zECaJpGc3Mzzz77LC+88MIGHOXdsVgshEIhnn32WQKBAKFQiEKhwL/8y7/wyiuvMD09TTQaXfNczeVyXLx4kdnZWRoaGvjOd76DzWbj7Nmz/OhHP6KxsZEnnngCs9m8JZaS1zPGGr/fz9DQEN/97ne3dD0ls9lMOBzmj/7oj7BYLFitVsrlMi+++CK/+c1vmJ6eprGxcU1gst3Oq+sZY812Oa+CuljQdZ3Lly9z5swZwuHwZ95+uz2Od2vrvENsM7FYjNnZWXw+H01NTfU16a6uLh566CGuXr3K7Ozsmp/J5XJ88sknaJrGwYMHcbvdtLW1MTAwwLVr11hYWGArVf5Yzxi3m0gkUr9yvN0ehJvNzs5y9epVhoaG6Orqwm6309nZidfrXbN3aCu50zFuRw6Hg1AoREdHB4FAALPZjN1uJxgMEgqFyGQy5HK5NT+Tz+e5cOECNput/noMhUK0t7fXZxqSyWR9b9VmW88YtyOz2YymaVit1vobeO3jdrbbeRXufIzbka7rJBIJxsfHmZycZO/evezatetTb78dH8e7ITNf65TJZEgkEni9Xrxeb/1Nze/3EwqFiMVi9Q3qNeVymcXFRRobG2lpacFms6FpWn0du1gsks/nsdvtW2LmZD1jrFlaWmJiYgKr1UpTUxORSIR9+/YRDoe31LKVzWbD5XKRTqc/132eSqWIx+Ps2bMHv9+P2WzG4XDgdrux2+2kUilyudxtZx82y52OEdSs58LCAm+99RbpdBqHw0F/fz/9/f1bcsO92WzGbDbXn6O1Dcq1xIhAIHDLxvLaGEOhEM3Nzdhstvp95Xa7628ebrd7S2z0Xc8Ya5LJJJcuXeLf//3faWpqIhgMsm/fPqLR6JbacF9jMpk4ffo0p06dIpFIMDs7S3d3N21tbbfMCG2382rNnYyxZrucV0GdK3/3u9+RzWY5cOAAzc3NLCwsfOrtt+vjuF5b6wy6jRQKhfqb7I1P+toeqJmZmXomS42u62QyGQA8Hk99OcNisaBpGoZhkM/nPzPTbiOtZ4xmsxm3243NZiORSHD8+HFcLld9inzv3r20tbVt6Djupc+6T5xOJ7lc7pb7ZLuxWq04HA6cTieTk5Osrq6iaRpzc3OUy2UeeeQRPB7PZh/mpzIMg1wux+joKIuLi9hsNpqamvD7/WtuV6lUyGQyhEIhPB5PPcAym814PB5MJhOZTGZLzkZ83jHWZsecTiflcpmTJ0/idDoJh8Pk83kOHjxIb2/vJo3i0xmGwdjYGK+++ipLS0s0NTVx6NAhIpHILRc22+28WnMnY9xu59Viscji4iLHjx+nr6+PY8eOkUwmP/NntuvjuF4SfIl7yul0snv3bjo7O/mzP/szNE1jdHSUc+fO8atf/YpCobClThLiVoFAgEOHDtHT04PFYkHXdUZHRzlx4gQ//vGP+bu/+7stHXyVy2VmZ2f5yU9+gt1u51vf+hZNTU07asn1847RZrPR2trKd77zHb75zW/idDqZnZ3l/Pnz/Nd//ReFQmFLBl9ms5nnn3+eAwcOkEqlePPNNxkeHmZqagqv17vlsm3X407GuN3Oq7Ozs4yMjNRn6Nra2rh8+fJmH9aWIsHXOtWuJrPZ7JqZjkKhQDabxel03jINbLFY6lP86XSahoaG+np/raaJw+HYEpt7Yf1jDIVCRCIRLBZL/YqtVCrx29/+lpmZmY0exj31WfdJLpe77X2y3dTq8NQeQ13X8fl8/P73v+f8+fMkk0lKpdKWDGYqlQrnz5/n+PHjGIbB4OAgjz32GF6v95bXVe25Cer1WJvhqlQqpNNpDMPYMkuON7qTMVoslvq2AZPJhNVqJRwOUy6X+eUvf8nS0lJ9NmGrLeUEg0ECgQDFYpGJiQlmZmaYmJggEomsCUy223n1Rncyxu10Xl1aWuLixYtcvnyZdDrN5cuXmZ+fZ3R0lEwmw8svv8xTTz3F4OBg/We28+O4HhJ8rZPb7cbv95NKpUilUpRKJSwWC4lEgpWVFYLB4C01SaxWK9FolEqlwuzsLI2NjVQqlfq+KU3TttSTaz1jNJlM2Gy2eiFHUCeY1tZWcrnctt8Q7PV6CQQCLC0tkUgkqFQqFItFMpkMhUIBr9eL0+nc7MO8K7U36dq0v8lkorGxEY/HUz8R6rq+5YKvUqnE0tISp06d4tSpUzz22GMcOnToUzf52mw2Ghsb6yUn9uzZQ6lUIpvN1gtZ+v3+LRV83ekYgXpBztrr0ev10tjYiMVioVQqUSwWt8xjWalU6puqa8+/2r4fj8dTf93daLudV9czxu12XtV1nVKpRKVSYXR0lJGREdLpNLFYDJPJxNmzZ+nt7V0TfG23x/FuSfC1TsFgkObmZhKJBPPz86ysrOD3+5mYmGB4eJjvfve7tLS0rPkZp9PJ0NAQ165d4/Tp0/T395NMJhkZGaG1tZVoNLqlnljrGWOlUiGZTK6p/zU7O8vo6Cher/dTN5JuFy0tLXR3d/Phhx/S2trK0NAQU1NTJJPJerC6lStNfx75fL4eSFqtVorFItPT0/UTp9vt3pL7LmKxGD/72c+Ympqip6eH5557js7Ozk+9vcPhYGhoiFOnTnH69GmOHj1aH6vZbMbn8+Hz+bbUjNCdjvHG16PT6cRkMhGPx5mamqJQKKBpGm63e8uMsVAokM/nsVgs2O12NE2jVCoxNzfH1atX6e7uvuUcst3Oq+sZ43Y7rz788MN0dnbyp3/6p/Vac1euXOH48eMsLi7ygx/8YE3gBdvvcbxbEnytk81mIxwOc+zYMRKJBC+++CJ2u535+Xna29vp7u4mkUhw9epVgsEgTU1NuFwuDh48WE+p/bd/+7d6EbnDhw/z0EMPbfaw1ljPGDVN48yZM8zOzpJKpTCZTCQSCVKpFE8++SRDQ0ObPaw1Ll68yJkzZ5icnOTEiRNMTk7y4x//mIMHD9LV1bWmhcuuXbtobm5m9+7dXLhwgQ8++IDJycn6VeoXv/jFegmAreROx7iwsMDw8DAzMzP1NjaJRAKTycTzzz+/JceYSCS4fPkyb731Fslkkra2Nl566aV6+5yHH34Yq9VaLwPS0tJCOBxmcHCQ6elpTp06xU9/+tN6kdUDBw4wODi4pWa91jNGv9/P6Ogok5OTLC0tYTabyWQyJJNJjhw5wp49e7bUGPP5PFNTU3z00Udks1nMZjPlcpm5uTlaWloYHBwkm83y7rvvbtvz6nrGuN3Oq263e00Wba0V28jICPl8nubmZmKxGB9//PG2fRzvlgRf62QymQgEAnzlK1+pt94xDIOHHnqIo0eP0t7ezuXLlxkeHqa9vR23200wGGT37t3Mzs4yPDzM+++/D0BnZyePP/44fX19mzyqtdYzRq/Xy+zsLKdPn2ZiYgKLxYLD4aCtrY0vfelLW26MMzMznDx5krGxMWKxGJqmcfz48frSgK7rGIaB3++nra2NUChEX18fg4ODfPTRR3zyySfYbDaee+45nn/++S13BQp3PsZ0Os3ExAQnTpwglUphsViw2Ww8+eSTPPvss7dt07PZstks8Xi8Xrk/l8vVX1+hUAiv14umafUlDKfTSUtLC52dnTz00ENMTEzwwQcfrGkvdPOV+WZbzxjdbjfLy8ucO3eOCxcu1It6NjY28o1vfIM9e/Zs2nhupzbDc/r0aRYWFurP0Z6eHg4fPszg4CBXrlzZ1ufV9Yxxu51Xb2Y2m+tZtrUtC9PT09v6cbxbJmMnVS3bYLWm04lEgnQ6DaxtOp3P58nlcthsNhwOB3a7fds1Dr3TMdb2hNU2pNf2DGmaRiAQqN9mq0gmk6yurlIoFNB1nUqlUm9We2O6d638gMVioVwuE4/HyWaz26Kx9p2OsVgskk6nSafT9VmxWksUn8+3JTdn11oiLS0tUalU1tQhq/XAM5lM9fHUSmmAqkeUTCa3fGPt9YxR07T6Y5nL5eqvR6vVSkNDA06nc8vs9wKVxZnP54nFYvUWNIZh4HA46k3da8kt2/W8up4xbrfz6s1qDd4zmQylUolwOEyxWNzWj+PdkuBLCCGEEGIDba3LVyGEEEKIHU6CLyGEEEKIDSTBlxBCCCHEBpLgSwghhBBiA0nwJYQQQgixgST4EkIIIYTYQBJ8CSGEEEJsoP8PtNPkNl84IUkAAAAASUVORK5CYII=)"
      ],
      "metadata": {
        "id": "XqCUvKCM2wEJ"
      }
    },
    {
      "cell_type": "markdown",
      "source": [
        "### Tuning"
      ],
      "metadata": {
        "id": "azArSQ5v_n0F"
      }
    },
    {
      "cell_type": "code",
      "source": [
        "conv_base.trainable=True\n",
        "for layer in conv_base.layers:\n",
        "  #print(layer.name, layer.trainable)\n",
        "  if(\"block5\" not in layer.name):\n",
        "    layer.trainable=False"
      ],
      "metadata": {
        "id": "tK3d4rON6PT9"
      },
      "execution_count": 30,
      "outputs": []
    },
    {
      "cell_type": "code",
      "source": [
        "for layer in conv_base.layers:\n",
        "  print(layer.name, layer.trainable) # last conv layer is now trainable"
      ],
      "metadata": {
        "colab": {
          "base_uri": "https://localhost:8080/"
        },
        "id": "Nqqucuoh-TVp",
        "outputId": "f5f8da55-26ee-4903-a1c9-a154c779cc53"
      },
      "execution_count": 32,
      "outputs": [
        {
          "output_type": "stream",
          "name": "stdout",
          "text": [
            "input_2 False\n",
            "block1_conv1 False\n",
            "block1_conv2 False\n",
            "block1_pool False\n",
            "block2_conv1 False\n",
            "block2_conv2 False\n",
            "block2_pool False\n",
            "block3_conv1 False\n",
            "block3_conv2 False\n",
            "block3_conv3 False\n",
            "block3_pool False\n",
            "block4_conv1 False\n",
            "block4_conv2 False\n",
            "block4_conv3 False\n",
            "block4_pool False\n",
            "block5_conv1 True\n",
            "block5_conv2 True\n",
            "block5_conv3 True\n",
            "block5_pool True\n"
          ]
        }
      ]
    },
    {
      "cell_type": "code",
      "source": [
        "tuned_model=Sequential()\n",
        "tuned_model.add(conv_base)\n",
        "tuned_model.add(Flatten())\n",
        "tuned_model.add(Dense(256,activation='relu'))\n",
        "tuned_model.add(Dense(1,activation='sigmoid'))\n",
        "\n",
        "tuned_model.summary()"
      ],
      "metadata": {
        "colab": {
          "base_uri": "https://localhost:8080/"
        },
        "id": "GFXHvzYp9zTh",
        "outputId": "f1086d3c-e24d-4296-b820-818f6dfabc8b"
      },
      "execution_count": 31,
      "outputs": [
        {
          "output_type": "stream",
          "name": "stdout",
          "text": [
            "Model: \"sequential_5\"\n",
            "_________________________________________________________________\n",
            " Layer (type)                Output Shape              Param #   \n",
            "=================================================================\n",
            " vgg16 (Functional)          (None, 7, 7, 512)         14714688  \n",
            "                                                                 \n",
            " flatten_5 (Flatten)         (None, 25088)             0         \n",
            "                                                                 \n",
            " dense_10 (Dense)            (None, 256)               6422784   \n",
            "                                                                 \n",
            " dense_11 (Dense)            (None, 1)                 257       \n",
            "                                                                 \n",
            "=================================================================\n",
            "Total params: 21,137,729\n",
            "Trainable params: 13,502,465\n",
            "Non-trainable params: 7,635,264\n",
            "_________________________________________________________________\n"
          ]
        }
      ]
    },
    {
      "cell_type": "code",
      "source": [
        "tuned_model.compile(loss='binary_crossentropy',\n",
        "              optimizer='adam',\n",
        "              metrics=['accuracy']\n",
        "              )"
      ],
      "metadata": {
        "id": "DJ7KZX7R-Hol"
      },
      "execution_count": 33,
      "outputs": []
    },
    {
      "cell_type": "code",
      "source": [
        "history = tuned_model.fit(train_datagen, epochs=5, validation_data=test_datagen)"
      ],
      "metadata": {
        "colab": {
          "base_uri": "https://localhost:8080/"
        },
        "id": "arTOV4nN-hho",
        "outputId": "a02c5343-55dd-4246-dfde-62a54245cab2"
      },
      "execution_count": 34,
      "outputs": [
        {
          "output_type": "stream",
          "name": "stdout",
          "text": [
            "Epoch 1/5\n",
            "625/625 [==============================] - 310s 492ms/step - loss: 0.7312 - accuracy: 0.5019 - val_loss: 0.6932 - val_accuracy: 0.5000\n",
            "Epoch 2/5\n",
            "625/625 [==============================] - 290s 464ms/step - loss: 0.6932 - accuracy: 0.4982 - val_loss: 0.6931 - val_accuracy: 0.5000\n",
            "Epoch 3/5\n",
            "625/625 [==============================] - 288s 460ms/step - loss: 0.6932 - accuracy: 0.4953 - val_loss: 0.6931 - val_accuracy: 0.5000\n",
            "Epoch 4/5\n",
            "625/625 [==============================] - 289s 462ms/step - loss: 0.6932 - accuracy: 0.4952 - val_loss: 0.6931 - val_accuracy: 0.5000\n",
            "Epoch 5/5\n",
            "625/625 [==============================] - 288s 460ms/step - loss: 0.6932 - accuracy: 0.5006 - val_loss: 0.6932 - val_accuracy: 0.5000\n"
          ]
        }
      ]
    }
  ]
}