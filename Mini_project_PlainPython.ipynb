{
  "nbformat": 4,
  "nbformat_minor": 0,
  "metadata": {
    "colab": {
      "provenance": [],
      "authorship_tag": "ABX9TyO54gF3fWXQQe8c9XMu7IOL",
      "include_colab_link": true
    },
    "kernelspec": {
      "name": "python3",
      "display_name": "Python 3"
    },
    "language_info": {
      "name": "python"
    }
  },
  "cells": [
    {
      "cell_type": "markdown",
      "metadata": {
        "id": "view-in-github",
        "colab_type": "text"
      },
      "source": [
        "<a href=\"https://colab.research.google.com/github/SondipPoulSingh/Deep-Learning/blob/main/Mini_project_PlainPython.ipynb\" target=\"_parent\"><img src=\"https://colab.research.google.com/assets/colab-badge.svg\" alt=\"Open In Colab\"/></a>"
      ]
    },
    {
      "cell_type": "markdown",
      "source": [
        "### This project sends emails the marks of the students in their mailing address from a excel sheet. I work this simple project in the covid time so that i dont have to send the marks of each student manually. "
      ],
      "metadata": {
        "id": "sayDpq-sWFnl"
      }
    },
    {
      "cell_type": "code",
      "execution_count": null,
      "metadata": {
        "id": "Fca0ZuNJtygw"
      },
      "outputs": [],
      "source": [
        "import xlrd\n",
        "import time\n",
        "import smtplib\n",
        "from email.mime.text import MIMEText\n",
        "from email.mime.multipart import MIMEMultipart\n",
        "\n",
        "path =  \"E:\\BUBT\\Summer 2021\\Mail\\CSE445.xlsx\"\n",
        "openFile = xlrd.open_workbook(path)\n",
        "sheet = openFile.sheet_by_name('CSE445_2')\n",
        "\n",
        "Student_id = []\n",
        "Name = []\n",
        "Mail_list = []\n",
        "Mid =[]\n",
        "CT1 = []\n",
        "CT2 = []\n",
        "CT = []\n",
        "Assign1 = []\n",
        "Assign2 = []\n",
        "Assignment = []\n",
        "\n",
        "\n",
        "#Student ID\tStudent's Name\tCT1\tCO1\tCO2\tCO3\tTotal\tMid\tEmail\n",
        "\n",
        "for k in range(sheet.nrows-1):\n",
        "    id = sheet.cell_value(k+1,0)\n",
        "    name = sheet.cell_value(k+1,1)\n",
        "    email = sheet.cell_value(k+1,2)\n",
        "    mid= sheet.cell_value(k+1,3)\n",
        "    ct1 = sheet.cell_value(k+1,4)\n",
        "    ct2 = sheet.cell_value(k+1,5)\n",
        "    ct = sheet.cell_value(k+1,6)\n",
        "    assign1 = sheet.cell_value(k+1,7)\n",
        "    assign2 = sheet.cell_value(k+1,8)\n",
        "    assignment = sheet.cell_value(k+1,9)\n",
        "    \n",
        "    Student_id.append(id)\n",
        "    Name.append(name) \n",
        "    Mail_list.append(email) \n",
        "    Mid.append(mid)\n",
        "    CT1.append(ct1)\n",
        "    CT2.append(ct2)\n",
        "    CT.append(ct)\n",
        "    Assign1.append(assign1)\n",
        "    Assign2.append(assign2)\n",
        "    Assignment.append(assignment)\n",
        "    \n",
        "       \n",
        "\n",
        "\n",
        "email = 'poulsingh083@gmail.com' # recommend to use a dummy mail\n",
        "password = 'your password' \n",
        "server = smtplib.SMTP('smtp.gmail.com', 587)\n",
        "server.starttls()\n",
        "server.login(email, password)\n",
        "\n",
        "for mail_to in Mail_list:\n",
        "    send_to_email = mail_to\n",
        "    find_des = Mail_list.index(send_to_email) \n",
        "    clientName = Name[find_des] \n",
        "    subject = f'{clientName} you have a new email'\n",
        "    message = f'Dear {clientName}, \\n' \\\n",
        "              f'Your Mid Term Mark is=  {Mid[find_des]}. \\n'\\\n",
        "              f'CT1 = {CT1[find_des]}. \\n'\\\n",
        "              f'CT2=  {CT2[find_des]}. \\n'\\\n",
        "              f'CT(Best) = {CT[find_des]}. \\n'\\\n",
        "              f'Assign1 =  {Assign1[find_des]}. \\n'\\\n",
        "              f'Assign2 =  {Assign2[find_des]}. \\n'\\\n",
        "              f'Assignment(Avg)=  {Assignment[find_des]}. \\n'\\\n",
        "              '\\n' \\\n",
        "              f'Best Regards \\n' \\\n",
        "              f'Sondip poul singh \\n' \\\n",
        "              f'Lecturer, BUBT.'\n",
        "\n",
        "    msg = MIMEMultipart()\n",
        "    msg['From '] = send_to_email\n",
        "    msg['Subject'] = subject\n",
        "    msg.attach(MIMEText(message, 'plain'))\n",
        "    text = msg.as_string()\n",
        "    print(f'Sending email to {clientName}... ') \n",
        "    server.sendmail(email, send_to_email, text)\n",
        "\n",
        "server.quit()\n",
        "print('Process is finished!')\n",
        "time.sleep(10)"
      ]
    }
  ]
}